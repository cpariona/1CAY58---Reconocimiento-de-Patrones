{
  "nbformat": 4,
  "nbformat_minor": 0,
  "metadata": {
    "colab": {
      "provenance": []
    },
    "kernelspec": {
      "name": "python3",
      "display_name": "Python 3"
    },
    "language_info": {
      "name": "python"
    }
  },
  "cells": [
    {
      "cell_type": "markdown",
      "source": [
        "# Pre-procesamiento de Datos"
      ],
      "metadata": {
        "id": "xYx6Vxyz2kR2"
      }
    },
    {
      "cell_type": "code",
      "execution_count": null,
      "metadata": {
        "id": "V2B1sxtW2U8K"
      },
      "outputs": [],
      "source": [
        "import numpy as np\n",
        "import matplotlib.pyplot as plt\n",
        "import seaborn as sns\n",
        "import pandas as pd\n",
        "import missingno as msno"
      ]
    },
    {
      "cell_type": "markdown",
      "source": [
        "## Lectura de las bases de datos"
      ],
      "metadata": {
        "id": "aE5LeogF2zAo"
      }
    },
    {
      "cell_type": "code",
      "source": [
        "df = pd.read_csv(\"Siderophore_DB.csv\") # df va a ser nuestro target dataframe\n",
        "df1 = pd.read_csv(\"Siderophore_DB1.csv\") # df1 va a ser nuestro 1er categories dataframe\n",
        "df2 = pd.read_csv(\"Siderophore_DB2.csv\") # df2 va a ser nuestro 2do categories dataframe\n",
        "df3 = pd.read_csv(\"Siderophore_DB3.csv\") # df3 va a ser nuestro 3er categories dataframe"
      ],
      "metadata": {
        "id": "rCMQjMqX2xZX"
      },
      "execution_count": null,
      "outputs": []
    },
    {
      "cell_type": "code",
      "source": [
        "df.shape"
      ],
      "metadata": {
        "colab": {
          "base_uri": "https://localhost:8080/"
        },
        "id": "9-K6MHwc8XGX",
        "outputId": "419efd2f-1a56-42d5-d81e-fe15a9ba5054"
      },
      "execution_count": null,
      "outputs": [
        {
          "output_type": "execute_result",
          "data": {
            "text/plain": [
              "(221, 14)"
            ]
          },
          "metadata": {},
          "execution_count": 3
        }
      ]
    },
    {
      "cell_type": "code",
      "source": [
        "df.info()"
      ],
      "metadata": {
        "colab": {
          "base_uri": "https://localhost:8080/"
        },
        "id": "r4C7nRrM4SFs",
        "outputId": "2af117c4-2fb6-4935-9e22-3518d0307dd2"
      },
      "execution_count": null,
      "outputs": [
        {
          "output_type": "stream",
          "name": "stdout",
          "text": [
            "<class 'pandas.core.frame.DataFrame'>\n",
            "RangeIndex: 221 entries, 0 to 220\n",
            "Data columns (total 14 columns):\n",
            " #   Column                Non-Null Count  Dtype \n",
            "---  ------                --------------  ----- \n",
            " 0   ID                    221 non-null    object\n",
            " 1   Compounds             221 non-null    object\n",
            " 2   Microorganism         149 non-null    object\n",
            " 3   hydroxamate           221 non-null    int64 \n",
            " 4   catecholate           221 non-null    int64 \n",
            " 5   a-hydroxycarboxylate  221 non-null    int64 \n",
            " 6   carboxylate           221 non-null    int64 \n",
            " 7   phenolate             221 non-null    int64 \n",
            " 8   citrate               221 non-null    int64 \n",
            " 9   other                 221 non-null    int64 \n",
            " 10  SMILES                221 non-null    object\n",
            " 11  validate smiles       221 non-null    bool  \n",
            " 12  SMARTS                221 non-null    object\n",
            " 13  SELFIES               221 non-null    object\n",
            "dtypes: bool(1), int64(7), object(6)\n",
            "memory usage: 22.8+ KB\n"
          ]
        }
      ]
    },
    {
      "cell_type": "markdown",
      "source": [
        "## **DF TARGET**"
      ],
      "metadata": {
        "id": "zDl7E8oIG7RU"
      }
    },
    {
      "cell_type": "markdown",
      "source": [
        "## Eliminar columnas irrelevantes"
      ],
      "metadata": {
        "id": "eu9qY3QBCEap"
      }
    },
    {
      "cell_type": "code",
      "source": [
        "# nos quedaremos con las columnas que usaremos de target, columnas de 3 a 9\n",
        "df_columns = df.columns\n",
        "df_columns"
      ],
      "metadata": {
        "colab": {
          "base_uri": "https://localhost:8080/"
        },
        "id": "ZEOQJzB48fc9",
        "outputId": "806355b2-928b-4706-d466-69335350c744"
      },
      "execution_count": null,
      "outputs": [
        {
          "output_type": "execute_result",
          "data": {
            "text/plain": [
              "Index(['ID', 'Compounds', 'Microorganism', 'hydroxamate', 'catecholate',\n",
              "       'a-hydroxycarboxylate', 'carboxylate', 'phenolate', 'citrate', 'other',\n",
              "       'SMILES', 'validate smiles', 'SMARTS', 'SELFIES'],\n",
              "      dtype='object')"
            ]
          },
          "metadata": {},
          "execution_count": 5
        }
      ]
    },
    {
      "cell_type": "code",
      "source": [
        "df = df.drop(['ID', 'Compounds', 'Microorganism', 'SMILES', 'validate smiles', 'SMARTS', 'SELFIES'], axis='columns')\n",
        "df.info()"
      ],
      "metadata": {
        "colab": {
          "base_uri": "https://localhost:8080/"
        },
        "id": "D1qb7kFI9s4O",
        "outputId": "c2fd2f05-198f-443a-e49f-ffe7e0b3f4b0"
      },
      "execution_count": null,
      "outputs": [
        {
          "output_type": "stream",
          "name": "stdout",
          "text": [
            "<class 'pandas.core.frame.DataFrame'>\n",
            "RangeIndex: 221 entries, 0 to 220\n",
            "Data columns (total 7 columns):\n",
            " #   Column                Non-Null Count  Dtype\n",
            "---  ------                --------------  -----\n",
            " 0   hydroxamate           221 non-null    int64\n",
            " 1   catecholate           221 non-null    int64\n",
            " 2   a-hydroxycarboxylate  221 non-null    int64\n",
            " 3   carboxylate           221 non-null    int64\n",
            " 4   phenolate             221 non-null    int64\n",
            " 5   citrate               221 non-null    int64\n",
            " 6   other                 221 non-null    int64\n",
            "dtypes: int64(7)\n",
            "memory usage: 12.2 KB\n"
          ]
        }
      ]
    },
    {
      "cell_type": "markdown",
      "source": [
        "## Transformamos el df target a variables binarias\n",
        "\n",
        "El objetivo de nuestro análisis será determinar si con los dataframes categóricos es posible determinar si el microorganismo o compuesto \"tiene el sideróforo\""
      ],
      "metadata": {
        "id": "zloMEhLOCQiJ"
      }
    },
    {
      "cell_type": "code",
      "source": [
        "df_target = df.copy()\n",
        "df_target = df_target.replace([2, 3, 4],1)"
      ],
      "metadata": {
        "id": "BWiSt0v6Dj3T"
      },
      "execution_count": null,
      "outputs": []
    },
    {
      "cell_type": "markdown",
      "source": [
        "### hydroxamate"
      ],
      "metadata": {
        "id": "t83CGRh-BDhA"
      }
    },
    {
      "cell_type": "code",
      "source": [
        "pd.value_counts(df_target['hydroxamate'], sort = True)"
      ],
      "metadata": {
        "colab": {
          "base_uri": "https://localhost:8080/"
        },
        "id": "Hqlf1W5hAOXZ",
        "outputId": "12bbcae3-91fd-4fd4-ca6e-fc0b2687e9eb"
      },
      "execution_count": null,
      "outputs": [
        {
          "output_type": "execute_result",
          "data": {
            "text/plain": [
              "1    130\n",
              "0     91\n",
              "Name: hydroxamate, dtype: int64"
            ]
          },
          "metadata": {},
          "execution_count": 8
        }
      ]
    },
    {
      "cell_type": "markdown",
      "source": [
        "### catecholate"
      ],
      "metadata": {
        "id": "-IXNX0ZkBQzu"
      }
    },
    {
      "cell_type": "code",
      "source": [
        "pd.value_counts(df_target['catecholate'], sort = True)"
      ],
      "metadata": {
        "colab": {
          "base_uri": "https://localhost:8080/"
        },
        "id": "mMXG4ewFBRCZ",
        "outputId": "eed52c53-04d0-4f7a-9edc-a3c2aeb4bfa5"
      },
      "execution_count": null,
      "outputs": [
        {
          "output_type": "execute_result",
          "data": {
            "text/plain": [
              "0    153\n",
              "1     68\n",
              "Name: catecholate, dtype: int64"
            ]
          },
          "metadata": {},
          "execution_count": 9
        }
      ]
    },
    {
      "cell_type": "markdown",
      "source": [
        "### a-hydroxycarboxylate"
      ],
      "metadata": {
        "id": "yd9WEpq0BjMC"
      }
    },
    {
      "cell_type": "code",
      "source": [
        "pd.value_counts(df_target['a-hydroxycarboxylate'], sort = True)"
      ],
      "metadata": {
        "colab": {
          "base_uri": "https://localhost:8080/"
        },
        "id": "TSpnCpozBjWB",
        "outputId": "27295075-b062-418a-bf3c-8eaf02c85ccc"
      },
      "execution_count": null,
      "outputs": [
        {
          "output_type": "execute_result",
          "data": {
            "text/plain": [
              "0    206\n",
              "1     15\n",
              "Name: a-hydroxycarboxylate, dtype: int64"
            ]
          },
          "metadata": {},
          "execution_count": 10
        }
      ]
    },
    {
      "cell_type": "markdown",
      "source": [
        "### carboxylate"
      ],
      "metadata": {
        "id": "dgoBLqiYBjpz"
      }
    },
    {
      "cell_type": "code",
      "source": [
        "pd.value_counts(df_target['carboxylate'], sort = True)"
      ],
      "metadata": {
        "colab": {
          "base_uri": "https://localhost:8080/"
        },
        "id": "tnhcX9MIBjwh",
        "outputId": "67ce7041-d1bb-4f4b-f711-3366be4840b0"
      },
      "execution_count": null,
      "outputs": [
        {
          "output_type": "execute_result",
          "data": {
            "text/plain": [
              "0    148\n",
              "1     73\n",
              "Name: carboxylate, dtype: int64"
            ]
          },
          "metadata": {},
          "execution_count": 11
        }
      ]
    },
    {
      "cell_type": "markdown",
      "source": [
        "### phenolate"
      ],
      "metadata": {
        "id": "_JrtR9xOBj3r"
      }
    },
    {
      "cell_type": "code",
      "source": [
        "pd.value_counts(df_target['phenolate'], sort = True)"
      ],
      "metadata": {
        "colab": {
          "base_uri": "https://localhost:8080/"
        },
        "id": "pNRJru0nBj91",
        "outputId": "89529c08-fa36-40f8-e322-010afb96da75"
      },
      "execution_count": null,
      "outputs": [
        {
          "output_type": "execute_result",
          "data": {
            "text/plain": [
              "0    202\n",
              "1     19\n",
              "Name: phenolate, dtype: int64"
            ]
          },
          "metadata": {},
          "execution_count": 12
        }
      ]
    },
    {
      "cell_type": "markdown",
      "source": [
        "### citrate"
      ],
      "metadata": {
        "id": "axORT01-Bnwj"
      }
    },
    {
      "cell_type": "code",
      "source": [
        "pd.value_counts(df_target['citrate'], sort = True)"
      ],
      "metadata": {
        "colab": {
          "base_uri": "https://localhost:8080/"
        },
        "id": "fF1oUs8FBn4a",
        "outputId": "08750b61-8f35-4540-eb39-e528245f0ab2"
      },
      "execution_count": null,
      "outputs": [
        {
          "output_type": "execute_result",
          "data": {
            "text/plain": [
              "0    202\n",
              "1     19\n",
              "Name: citrate, dtype: int64"
            ]
          },
          "metadata": {},
          "execution_count": 13
        }
      ]
    },
    {
      "cell_type": "markdown",
      "source": [
        "### other"
      ],
      "metadata": {
        "id": "96lPdDjlBzWn"
      }
    },
    {
      "cell_type": "code",
      "source": [
        "pd.value_counts(df_target['other'], sort = True)"
      ],
      "metadata": {
        "colab": {
          "base_uri": "https://localhost:8080/"
        },
        "id": "QkOJocgVBzdf",
        "outputId": "1c3b663c-a5a8-4aba-ae30-18cffe63fcba"
      },
      "execution_count": null,
      "outputs": [
        {
          "output_type": "execute_result",
          "data": {
            "text/plain": [
              "0    204\n",
              "1     17\n",
              "Name: other, dtype: int64"
            ]
          },
          "metadata": {},
          "execution_count": 14
        }
      ]
    },
    {
      "cell_type": "markdown",
      "source": [
        "## **1er DF CATEGORICO**"
      ],
      "metadata": {
        "id": "Gv6UMgm7HDUV"
      }
    },
    {
      "cell_type": "markdown",
      "source": [
        "## Eliminar columnas irrelevantes"
      ],
      "metadata": {
        "id": "c-9o-3Y-Ibc-"
      }
    },
    {
      "cell_type": "code",
      "source": [
        "df1.head(3)"
      ],
      "metadata": {
        "colab": {
          "base_uri": "https://localhost:8080/",
          "height": 237
        },
        "id": "v6YQcaT9IkPh",
        "outputId": "f2241efe-4338-4265-a031-6fef250596a0"
      },
      "execution_count": null,
      "outputs": [
        {
          "output_type": "execute_result",
          "data": {
            "text/plain": [
              "  ID  MaxEStateIndex  MinEStateIndex  MaxAbsEStateIndex  MinAbsEStateIndex  \\\n",
              "0  1       11.191262       -1.343472          11.191262           0.665370   \n",
              "1  2       12.228676       -3.436129          12.228676           0.586755   \n",
              "2  3       12.627825       -3.816337          12.627825           0.758838   \n",
              "\n",
              "        qed    MolWt  HeavyAtomMolWt  ExactMolWt  NumValenceElectrons  ...  \\\n",
              "0  0.522491  154.121         148.073  154.026609                   58  ...   \n",
              "1  0.522624  211.173         202.101  211.048072                   80  ...   \n",
              "2  0.442264  241.199         230.111  241.058637                   92  ...   \n",
              "\n",
              "   fr_NH0  fr_NH1  fr_NH2  fr_N_O  fr_amide  fr_benzene  fr_ester  \\\n",
              "0       0       0       0       0         0           1         0   \n",
              "1       0       1       0       0         1           1         0   \n",
              "2       0       1       0       0         1           1         0   \n",
              "\n",
              "   fr_para_hydroxylation  fr_phenol  fr_phenol_noOrthoHbond  \n",
              "0                      1          2                       1  \n",
              "1                      1          2                       2  \n",
              "2                      1          2                       2  \n",
              "\n",
              "[3 rows x 119 columns]"
            ],
            "text/html": [
              "\n",
              "  <div id=\"df-73a7084f-af4c-4b21-8894-328001b5b8bb\">\n",
              "    <div class=\"colab-df-container\">\n",
              "      <div>\n",
              "<style scoped>\n",
              "    .dataframe tbody tr th:only-of-type {\n",
              "        vertical-align: middle;\n",
              "    }\n",
              "\n",
              "    .dataframe tbody tr th {\n",
              "        vertical-align: top;\n",
              "    }\n",
              "\n",
              "    .dataframe thead th {\n",
              "        text-align: right;\n",
              "    }\n",
              "</style>\n",
              "<table border=\"1\" class=\"dataframe\">\n",
              "  <thead>\n",
              "    <tr style=\"text-align: right;\">\n",
              "      <th></th>\n",
              "      <th>ID</th>\n",
              "      <th>MaxEStateIndex</th>\n",
              "      <th>MinEStateIndex</th>\n",
              "      <th>MaxAbsEStateIndex</th>\n",
              "      <th>MinAbsEStateIndex</th>\n",
              "      <th>qed</th>\n",
              "      <th>MolWt</th>\n",
              "      <th>HeavyAtomMolWt</th>\n",
              "      <th>ExactMolWt</th>\n",
              "      <th>NumValenceElectrons</th>\n",
              "      <th>...</th>\n",
              "      <th>fr_NH0</th>\n",
              "      <th>fr_NH1</th>\n",
              "      <th>fr_NH2</th>\n",
              "      <th>fr_N_O</th>\n",
              "      <th>fr_amide</th>\n",
              "      <th>fr_benzene</th>\n",
              "      <th>fr_ester</th>\n",
              "      <th>fr_para_hydroxylation</th>\n",
              "      <th>fr_phenol</th>\n",
              "      <th>fr_phenol_noOrthoHbond</th>\n",
              "    </tr>\n",
              "  </thead>\n",
              "  <tbody>\n",
              "    <tr>\n",
              "      <th>0</th>\n",
              "      <td>1</td>\n",
              "      <td>11.191262</td>\n",
              "      <td>-1.343472</td>\n",
              "      <td>11.191262</td>\n",
              "      <td>0.665370</td>\n",
              "      <td>0.522491</td>\n",
              "      <td>154.121</td>\n",
              "      <td>148.073</td>\n",
              "      <td>154.026609</td>\n",
              "      <td>58</td>\n",
              "      <td>...</td>\n",
              "      <td>0</td>\n",
              "      <td>0</td>\n",
              "      <td>0</td>\n",
              "      <td>0</td>\n",
              "      <td>0</td>\n",
              "      <td>1</td>\n",
              "      <td>0</td>\n",
              "      <td>1</td>\n",
              "      <td>2</td>\n",
              "      <td>1</td>\n",
              "    </tr>\n",
              "    <tr>\n",
              "      <th>1</th>\n",
              "      <td>2</td>\n",
              "      <td>12.228676</td>\n",
              "      <td>-3.436129</td>\n",
              "      <td>12.228676</td>\n",
              "      <td>0.586755</td>\n",
              "      <td>0.522624</td>\n",
              "      <td>211.173</td>\n",
              "      <td>202.101</td>\n",
              "      <td>211.048072</td>\n",
              "      <td>80</td>\n",
              "      <td>...</td>\n",
              "      <td>0</td>\n",
              "      <td>1</td>\n",
              "      <td>0</td>\n",
              "      <td>0</td>\n",
              "      <td>1</td>\n",
              "      <td>1</td>\n",
              "      <td>0</td>\n",
              "      <td>1</td>\n",
              "      <td>2</td>\n",
              "      <td>2</td>\n",
              "    </tr>\n",
              "    <tr>\n",
              "      <th>2</th>\n",
              "      <td>3</td>\n",
              "      <td>12.627825</td>\n",
              "      <td>-3.816337</td>\n",
              "      <td>12.627825</td>\n",
              "      <td>0.758838</td>\n",
              "      <td>0.442264</td>\n",
              "      <td>241.199</td>\n",
              "      <td>230.111</td>\n",
              "      <td>241.058637</td>\n",
              "      <td>92</td>\n",
              "      <td>...</td>\n",
              "      <td>0</td>\n",
              "      <td>1</td>\n",
              "      <td>0</td>\n",
              "      <td>0</td>\n",
              "      <td>1</td>\n",
              "      <td>1</td>\n",
              "      <td>0</td>\n",
              "      <td>1</td>\n",
              "      <td>2</td>\n",
              "      <td>2</td>\n",
              "    </tr>\n",
              "  </tbody>\n",
              "</table>\n",
              "<p>3 rows × 119 columns</p>\n",
              "</div>\n",
              "      <button class=\"colab-df-convert\" onclick=\"convertToInteractive('df-73a7084f-af4c-4b21-8894-328001b5b8bb')\"\n",
              "              title=\"Convert this dataframe to an interactive table.\"\n",
              "              style=\"display:none;\">\n",
              "        \n",
              "  <svg xmlns=\"http://www.w3.org/2000/svg\" height=\"24px\"viewBox=\"0 0 24 24\"\n",
              "       width=\"24px\">\n",
              "    <path d=\"M0 0h24v24H0V0z\" fill=\"none\"/>\n",
              "    <path d=\"M18.56 5.44l.94 2.06.94-2.06 2.06-.94-2.06-.94-.94-2.06-.94 2.06-2.06.94zm-11 1L8.5 8.5l.94-2.06 2.06-.94-2.06-.94L8.5 2.5l-.94 2.06-2.06.94zm10 10l.94 2.06.94-2.06 2.06-.94-2.06-.94-.94-2.06-.94 2.06-2.06.94z\"/><path d=\"M17.41 7.96l-1.37-1.37c-.4-.4-.92-.59-1.43-.59-.52 0-1.04.2-1.43.59L10.3 9.45l-7.72 7.72c-.78.78-.78 2.05 0 2.83L4 21.41c.39.39.9.59 1.41.59.51 0 1.02-.2 1.41-.59l7.78-7.78 2.81-2.81c.8-.78.8-2.07 0-2.86zM5.41 20L4 18.59l7.72-7.72 1.47 1.35L5.41 20z\"/>\n",
              "  </svg>\n",
              "      </button>\n",
              "      \n",
              "  <style>\n",
              "    .colab-df-container {\n",
              "      display:flex;\n",
              "      flex-wrap:wrap;\n",
              "      gap: 12px;\n",
              "    }\n",
              "\n",
              "    .colab-df-convert {\n",
              "      background-color: #E8F0FE;\n",
              "      border: none;\n",
              "      border-radius: 50%;\n",
              "      cursor: pointer;\n",
              "      display: none;\n",
              "      fill: #1967D2;\n",
              "      height: 32px;\n",
              "      padding: 0 0 0 0;\n",
              "      width: 32px;\n",
              "    }\n",
              "\n",
              "    .colab-df-convert:hover {\n",
              "      background-color: #E2EBFA;\n",
              "      box-shadow: 0px 1px 2px rgba(60, 64, 67, 0.3), 0px 1px 3px 1px rgba(60, 64, 67, 0.15);\n",
              "      fill: #174EA6;\n",
              "    }\n",
              "\n",
              "    [theme=dark] .colab-df-convert {\n",
              "      background-color: #3B4455;\n",
              "      fill: #D2E3FC;\n",
              "    }\n",
              "\n",
              "    [theme=dark] .colab-df-convert:hover {\n",
              "      background-color: #434B5C;\n",
              "      box-shadow: 0px 1px 3px 1px rgba(0, 0, 0, 0.15);\n",
              "      filter: drop-shadow(0px 1px 2px rgba(0, 0, 0, 0.3));\n",
              "      fill: #FFFFFF;\n",
              "    }\n",
              "  </style>\n",
              "\n",
              "      <script>\n",
              "        const buttonEl =\n",
              "          document.querySelector('#df-73a7084f-af4c-4b21-8894-328001b5b8bb button.colab-df-convert');\n",
              "        buttonEl.style.display =\n",
              "          google.colab.kernel.accessAllowed ? 'block' : 'none';\n",
              "\n",
              "        async function convertToInteractive(key) {\n",
              "          const element = document.querySelector('#df-73a7084f-af4c-4b21-8894-328001b5b8bb');\n",
              "          const dataTable =\n",
              "            await google.colab.kernel.invokeFunction('convertToInteractive',\n",
              "                                                     [key], {});\n",
              "          if (!dataTable) return;\n",
              "\n",
              "          const docLinkHtml = 'Like what you see? Visit the ' +\n",
              "            '<a target=\"_blank\" href=https://colab.research.google.com/notebooks/data_table.ipynb>data table notebook</a>'\n",
              "            + ' to learn more about interactive tables.';\n",
              "          element.innerHTML = '';\n",
              "          dataTable['output_type'] = 'display_data';\n",
              "          await google.colab.output.renderOutput(dataTable, element);\n",
              "          const docLink = document.createElement('div');\n",
              "          docLink.innerHTML = docLinkHtml;\n",
              "          element.appendChild(docLink);\n",
              "        }\n",
              "      </script>\n",
              "    </div>\n",
              "  </div>\n",
              "  "
            ]
          },
          "metadata": {},
          "execution_count": 15
        }
      ]
    },
    {
      "cell_type": "code",
      "source": [
        "df1 = df1.drop(['ID'], axis='columns')\n",
        "df1.info()"
      ],
      "metadata": {
        "colab": {
          "base_uri": "https://localhost:8080/"
        },
        "id": "pZJDE9auI5D-",
        "outputId": "1fb75f35-2526-499c-b948-302d78e4bd90"
      },
      "execution_count": null,
      "outputs": [
        {
          "output_type": "stream",
          "name": "stdout",
          "text": [
            "<class 'pandas.core.frame.DataFrame'>\n",
            "RangeIndex: 221 entries, 0 to 220\n",
            "Columns: 118 entries, MaxEStateIndex to fr_phenol_noOrthoHbond\n",
            "dtypes: float64(86), int64(32)\n",
            "memory usage: 203.9 KB\n"
          ]
        }
      ]
    },
    {
      "cell_type": "markdown",
      "source": [
        "## Revisar si hay NaNs"
      ],
      "metadata": {
        "id": "5e2hW4P8HVr0"
      }
    },
    {
      "cell_type": "code",
      "source": [
        "msno.matrix(df1)"
      ],
      "metadata": {
        "colab": {
          "base_uri": "https://localhost:8080/",
          "height": 475
        },
        "id": "iEK10iFEHUIT",
        "outputId": "af696a83-56d2-40a1-cc95-586697b0a8fc"
      },
      "execution_count": null,
      "outputs": [
        {
          "output_type": "execute_result",
          "data": {
            "text/plain": [
              "<Axes: >"
            ]
          },
          "metadata": {},
          "execution_count": 17
        },
        {
          "output_type": "display_data",
          "data": {
            "text/plain": [
              "<Figure size 2500x1000 with 2 Axes>"
            ],
            "image/png": "[encoded data removed]"
          },
          "metadata": {}
        }
      ]
    },
    {
      "cell_type": "markdown",
      "source": [
        "## **2do DF CATEGORICO**"
      ],
      "metadata": {
        "id": "-Nme5hPDJOEY"
      }
    },
    {
      "cell_type": "markdown",
      "source": [
        "## Eliminar columnas irrelevantes"
      ],
      "metadata": {
        "id": "UjSIfAdCJaED"
      }
    },
    {
      "cell_type": "code",
      "source": [
        "df2.head(3)"
      ],
      "metadata": {
        "colab": {
          "base_uri": "https://localhost:8080/",
          "height": 254
        },
        "id": "3OfwIjdnJdBC",
        "outputId": "1a7078ac-e7be-45a3-9dca-5de8d8f84b4c"
      },
      "execution_count": null,
      "outputs": [
        {
          "output_type": "execute_result",
          "data": {
            "text/plain": [
              "   Unnamed: 0  Col_0  Col_1  Col_2  Col_3  Col_4  Col_5  Col_6  Col_7  Col_8  \\\n",
              "0           0      0      0      0      0      0      0      0      0      0   \n",
              "1           1      0      0      0      0      0      0      0      0      0   \n",
              "2           2      0      1      0      0      0      0      0      0      0   \n",
              "\n",
              "   ...  Col_2038  Col_2039  Col_2040  Col_2041  Col_2042  Col_2043  Col_2044  \\\n",
              "0  ...         0         0         0         0         0         0         0   \n",
              "1  ...         0         0         0         0         0         0         0   \n",
              "2  ...         0         0         0         0         0         0         0   \n",
              "\n",
              "   Col_2045  Col_2046  Col_2047  \n",
              "0         0         0         0  \n",
              "1         0         0         0  \n",
              "2         0         0         0  \n",
              "\n",
              "[3 rows x 2049 columns]"
            ],
            "text/html": [
              "\n",
              "  <div id=\"df-4b9c295a-9dd4-44db-98be-a972b7f5e249\">\n",
              "    <div class=\"colab-df-container\">\n",
              "      <div>\n",
              "<style scoped>\n",
              "    .dataframe tbody tr th:only-of-type {\n",
              "        vertical-align: middle;\n",
              "    }\n",
              "\n",
              "    .dataframe tbody tr th {\n",
              "        vertical-align: top;\n",
              "    }\n",
              "\n",
              "    .dataframe thead th {\n",
              "        text-align: right;\n",
              "    }\n",
              "</style>\n",
              "<table border=\"1\" class=\"dataframe\">\n",
              "  <thead>\n",
              "    <tr style=\"text-align: right;\">\n",
              "      <th></th>\n",
              "      <th>Unnamed: 0</th>\n",
              "      <th>Col_0</th>\n",
              "      <th>Col_1</th>\n",
              "      <th>Col_2</th>\n",
              "      <th>Col_3</th>\n",
              "      <th>Col_4</th>\n",
              "      <th>Col_5</th>\n",
              "      <th>Col_6</th>\n",
              "      <th>Col_7</th>\n",
              "      <th>Col_8</th>\n",
              "      <th>...</th>\n",
              "      <th>Col_2038</th>\n",
              "      <th>Col_2039</th>\n",
              "      <th>Col_2040</th>\n",
              "      <th>Col_2041</th>\n",
              "      <th>Col_2042</th>\n",
              "      <th>Col_2043</th>\n",
              "      <th>Col_2044</th>\n",
              "      <th>Col_2045</th>\n",
              "      <th>Col_2046</th>\n",
              "      <th>Col_2047</th>\n",
              "    </tr>\n",
              "  </thead>\n",
              "  <tbody>\n",
              "    <tr>\n",
              "      <th>0</th>\n",
              "      <td>0</td>\n",
              "      <td>0</td>\n",
              "      <td>0</td>\n",
              "      <td>0</td>\n",
              "      <td>0</td>\n",
              "      <td>0</td>\n",
              "      <td>0</td>\n",
              "      <td>0</td>\n",
              "      <td>0</td>\n",
              "      <td>0</td>\n",
              "      <td>...</td>\n",
              "      <td>0</td>\n",
              "      <td>0</td>\n",
              "      <td>0</td>\n",
              "      <td>0</td>\n",
              "      <td>0</td>\n",
              "      <td>0</td>\n",
              "      <td>0</td>\n",
              "      <td>0</td>\n",
              "      <td>0</td>\n",
              "      <td>0</td>\n",
              "    </tr>\n",
              "    <tr>\n",
              "      <th>1</th>\n",
              "      <td>1</td>\n",
              "      <td>0</td>\n",
              "      <td>0</td>\n",
              "      <td>0</td>\n",
              "      <td>0</td>\n",
              "      <td>0</td>\n",
              "      <td>0</td>\n",
              "      <td>0</td>\n",
              "      <td>0</td>\n",
              "      <td>0</td>\n",
              "      <td>...</td>\n",
              "      <td>0</td>\n",
              "      <td>0</td>\n",
              "      <td>0</td>\n",
              "      <td>0</td>\n",
              "      <td>0</td>\n",
              "      <td>0</td>\n",
              "      <td>0</td>\n",
              "      <td>0</td>\n",
              "      <td>0</td>\n",
              "      <td>0</td>\n",
              "    </tr>\n",
              "    <tr>\n",
              "      <th>2</th>\n",
              "      <td>2</td>\n",
              "      <td>0</td>\n",
              "      <td>1</td>\n",
              "      <td>0</td>\n",
              "      <td>0</td>\n",
              "      <td>0</td>\n",
              "      <td>0</td>\n",
              "      <td>0</td>\n",
              "      <td>0</td>\n",
              "      <td>0</td>\n",
              "      <td>...</td>\n",
              "      <td>0</td>\n",
              "      <td>0</td>\n",
              "      <td>0</td>\n",
              "      <td>0</td>\n",
              "      <td>0</td>\n",
              "      <td>0</td>\n",
              "      <td>0</td>\n",
              "      <td>0</td>\n",
              "      <td>0</td>\n",
              "      <td>0</td>\n",
              "    </tr>\n",
              "  </tbody>\n",
              "</table>\n",
              "<p>3 rows × 2049 columns</p>\n",
              "</div>\n",
              "      <button class=\"colab-df-convert\" onclick=\"convertToInteractive('df-4b9c295a-9dd4-44db-98be-a972b7f5e249')\"\n",
              "              title=\"Convert this dataframe to an interactive table.\"\n",
              "              style=\"display:none;\">\n",
              "        \n",
              "  <svg xmlns=\"http://www.w3.org/2000/svg\" height=\"24px\"viewBox=\"0 0 24 24\"\n",
              "       width=\"24px\">\n",
              "    <path d=\"M0 0h24v24H0V0z\" fill=\"none\"/>\n",
              "    <path d=\"M18.56 5.44l.94 2.06.94-2.06 2.06-.94-2.06-.94-.94-2.06-.94 2.06-2.06.94zm-11 1L8.5 8.5l.94-2.06 2.06-.94-2.06-.94L8.5 2.5l-.94 2.06-2.06.94zm10 10l.94 2.06.94-2.06 2.06-.94-2.06-.94-.94-2.06-.94 2.06-2.06.94z\"/><path d=\"M17.41 7.96l-1.37-1.37c-.4-.4-.92-.59-1.43-.59-.52 0-1.04.2-1.43.59L10.3 9.45l-7.72 7.72c-.78.78-.78 2.05 0 2.83L4 21.41c.39.39.9.59 1.41.59.51 0 1.02-.2 1.41-.59l7.78-7.78 2.81-2.81c.8-.78.8-2.07 0-2.86zM5.41 20L4 18.59l7.72-7.72 1.47 1.35L5.41 20z\"/>\n",
              "  </svg>\n",
              "      </button>\n",
              "      \n",
              "  <style>\n",
              "    .colab-df-container {\n",
              "      display:flex;\n",
              "      flex-wrap:wrap;\n",
              "      gap: 12px;\n",
              "    }\n",
              "\n",
              "    .colab-df-convert {\n",
              "      background-color: #E8F0FE;\n",
              "      border: none;\n",
              "      border-radius: 50%;\n",
              "      cursor: pointer;\n",
              "      display: none;\n",
              "      fill: #1967D2;\n",
              "      height: 32px;\n",
              "      padding: 0 0 0 0;\n",
              "      width: 32px;\n",
              "    }\n",
              "\n",
              "    .colab-df-convert:hover {\n",
              "      background-color: #E2EBFA;\n",
              "      box-shadow: 0px 1px 2px rgba(60, 64, 67, 0.3), 0px 1px 3px 1px rgba(60, 64, 67, 0.15);\n",
              "      fill: #174EA6;\n",
              "    }\n",
              "\n",
              "    [theme=dark] .colab-df-convert {\n",
              "      background-color: #3B4455;\n",
              "      fill: #D2E3FC;\n",
              "    }\n",
              "\n",
              "    [theme=dark] .colab-df-convert:hover {\n",
              "      background-color: #434B5C;\n",
              "      box-shadow: 0px 1px 3px 1px rgba(0, 0, 0, 0.15);\n",
              "      filter: drop-shadow(0px 1px 2px rgba(0, 0, 0, 0.3));\n",
              "      fill: #FFFFFF;\n",
              "    }\n",
              "  </style>\n",
              "\n",
              "      <script>\n",
              "        const buttonEl =\n",
              "          document.querySelector('#df-4b9c295a-9dd4-44db-98be-a972b7f5e249 button.colab-df-convert');\n",
              "        buttonEl.style.display =\n",
              "          google.colab.kernel.accessAllowed ? 'block' : 'none';\n",
              "\n",
              "        async function convertToInteractive(key) {\n",
              "          const element = document.querySelector('#df-4b9c295a-9dd4-44db-98be-a972b7f5e249');\n",
              "          const dataTable =\n",
              "            await google.colab.kernel.invokeFunction('convertToInteractive',\n",
              "                                                     [key], {});\n",
              "          if (!dataTable) return;\n",
              "\n",
              "          const docLinkHtml = 'Like what you see? Visit the ' +\n",
              "            '<a target=\"_blank\" href=https://colab.research.google.com/notebooks/data_table.ipynb>data table notebook</a>'\n",
              "            + ' to learn more about interactive tables.';\n",
              "          element.innerHTML = '';\n",
              "          dataTable['output_type'] = 'display_data';\n",
              "          await google.colab.output.renderOutput(dataTable, element);\n",
              "          const docLink = document.createElement('div');\n",
              "          docLink.innerHTML = docLinkHtml;\n",
              "          element.appendChild(docLink);\n",
              "        }\n",
              "      </script>\n",
              "    </div>\n",
              "  </div>\n",
              "  "
            ]
          },
          "metadata": {},
          "execution_count": 18
        }
      ]
    },
    {
      "cell_type": "code",
      "source": [
        "df2 = df2.drop(['Unnamed: 0'], axis='columns')\n",
        "df2.info()"
      ],
      "metadata": {
        "colab": {
          "base_uri": "https://localhost:8080/"
        },
        "id": "ivonr3wGJjOr",
        "outputId": "c2fb46d3-d276-41ef-f6bf-2d26c44a8d25"
      },
      "execution_count": null,
      "outputs": [
        {
          "output_type": "stream",
          "name": "stdout",
          "text": [
            "<class 'pandas.core.frame.DataFrame'>\n",
            "RangeIndex: 221 entries, 0 to 220\n",
            "Columns: 2048 entries, Col_0 to Col_2047\n",
            "dtypes: int64(2048)\n",
            "memory usage: 3.5 MB\n"
          ]
        }
      ]
    },
    {
      "cell_type": "markdown",
      "source": [
        "## Revisar si hay NaNs"
      ],
      "metadata": {
        "id": "T5TDyBAGJcwu"
      }
    },
    {
      "cell_type": "code",
      "source": [
        "df2.isnull().sum().sum() # para ver el total de NaN"
      ],
      "metadata": {
        "colab": {
          "base_uri": "https://localhost:8080/"
        },
        "id": "LHr7aOMBKIuQ",
        "outputId": "8d42c30c-14be-4ccf-b8f8-62d9a30f03ce"
      },
      "execution_count": null,
      "outputs": [
        {
          "output_type": "execute_result",
          "data": {
            "text/plain": [
              "0"
            ]
          },
          "metadata": {},
          "execution_count": 20
        }
      ]
    },
    {
      "cell_type": "markdown",
      "source": [
        "## **3er DF CATEGORICO**"
      ],
      "metadata": {
        "id": "KxYZY5uoKb85"
      }
    },
    {
      "cell_type": "markdown",
      "source": [
        "## Eliminar columnas irrelevantes"
      ],
      "metadata": {
        "id": "Y9FmZOKvKcpI"
      }
    },
    {
      "cell_type": "code",
      "source": [
        "df3.head(3)"
      ],
      "metadata": {
        "colab": {
          "base_uri": "https://localhost:8080/",
          "height": 254
        },
        "id": "6BcWIeRNKixi",
        "outputId": "67d98efc-3b6c-49dc-ddcd-84a46112782d"
      },
      "execution_count": null,
      "outputs": [
        {
          "output_type": "execute_result",
          "data": {
            "text/plain": [
              "   Unnamed: 0        ABC      ABCGG  nAcid  nBase    SpAbs_A   SpMax_A  \\\n",
              "0           0   8.094413   7.861189      1      0  13.168697  2.318335   \n",
              "1           1  11.032230  10.263086      1      0  18.097095  2.335155   \n",
              "2           2  12.406004  11.779674      1      0  20.564183  2.348305   \n",
              "\n",
              "   SpDiam_A     SpAD_A   SpMAD_A  ...     SRW10     TSRW10          MW  \\\n",
              "0  4.636669  13.168697  1.197154  ...  9.148784  41.129752  154.026609   \n",
              "1  4.670310  18.097095  1.206473  ...  9.344959  46.399340  211.048072   \n",
              "2  4.696611  20.564183  1.209658  ...  9.531336  49.175108  241.058637   \n",
              "\n",
              "        AMW  WPath  WPol  Zagreb1  Zagreb2  mZagreb1  mZagreb2  \n",
              "0  9.060389    146    15     52.0     59.0  5.194444  2.500000  \n",
              "1  8.793670    386    20     70.0     78.0  6.805556  3.416667  \n",
              "2  8.609237    530    25     80.0     91.0  7.916667  3.944444  \n",
              "\n",
              "[3 rows x 1827 columns]"
            ],
            "text/html": [
              "\n",
              "  <div id=\"df-21216762-bd3e-4a2a-98c3-5af0d9677c31\">\n",
              "    <div class=\"colab-df-container\">\n",
              "      <div>\n",
              "<style scoped>\n",
              "    .dataframe tbody tr th:only-of-type {\n",
              "        vertical-align: middle;\n",
              "    }\n",
              "\n",
              "    .dataframe tbody tr th {\n",
              "        vertical-align: top;\n",
              "    }\n",
              "\n",
              "    .dataframe thead th {\n",
              "        text-align: right;\n",
              "    }\n",
              "</style>\n",
              "<table border=\"1\" class=\"dataframe\">\n",
              "  <thead>\n",
              "    <tr style=\"text-align: right;\">\n",
              "      <th></th>\n",
              "      <th>Unnamed: 0</th>\n",
              "      <th>ABC</th>\n",
              "      <th>ABCGG</th>\n",
              "      <th>nAcid</th>\n",
              "      <th>nBase</th>\n",
              "      <th>SpAbs_A</th>\n",
              "      <th>SpMax_A</th>\n",
              "      <th>SpDiam_A</th>\n",
              "      <th>SpAD_A</th>\n",
              "      <th>SpMAD_A</th>\n",
              "      <th>...</th>\n",
              "      <th>SRW10</th>\n",
              "      <th>TSRW10</th>\n",
              "      <th>MW</th>\n",
              "      <th>AMW</th>\n",
              "      <th>WPath</th>\n",
              "      <th>WPol</th>\n",
              "      <th>Zagreb1</th>\n",
              "      <th>Zagreb2</th>\n",
              "      <th>mZagreb1</th>\n",
              "      <th>mZagreb2</th>\n",
              "    </tr>\n",
              "  </thead>\n",
              "  <tbody>\n",
              "    <tr>\n",
              "      <th>0</th>\n",
              "      <td>0</td>\n",
              "      <td>8.094413</td>\n",
              "      <td>7.861189</td>\n",
              "      <td>1</td>\n",
              "      <td>0</td>\n",
              "      <td>13.168697</td>\n",
              "      <td>2.318335</td>\n",
              "      <td>4.636669</td>\n",
              "      <td>13.168697</td>\n",
              "      <td>1.197154</td>\n",
              "      <td>...</td>\n",
              "      <td>9.148784</td>\n",
              "      <td>41.129752</td>\n",
              "      <td>154.026609</td>\n",
              "      <td>9.060389</td>\n",
              "      <td>146</td>\n",
              "      <td>15</td>\n",
              "      <td>52.0</td>\n",
              "      <td>59.0</td>\n",
              "      <td>5.194444</td>\n",
              "      <td>2.500000</td>\n",
              "    </tr>\n",
              "    <tr>\n",
              "      <th>1</th>\n",
              "      <td>1</td>\n",
              "      <td>11.032230</td>\n",
              "      <td>10.263086</td>\n",
              "      <td>1</td>\n",
              "      <td>0</td>\n",
              "      <td>18.097095</td>\n",
              "      <td>2.335155</td>\n",
              "      <td>4.670310</td>\n",
              "      <td>18.097095</td>\n",
              "      <td>1.206473</td>\n",
              "      <td>...</td>\n",
              "      <td>9.344959</td>\n",
              "      <td>46.399340</td>\n",
              "      <td>211.048072</td>\n",
              "      <td>8.793670</td>\n",
              "      <td>386</td>\n",
              "      <td>20</td>\n",
              "      <td>70.0</td>\n",
              "      <td>78.0</td>\n",
              "      <td>6.805556</td>\n",
              "      <td>3.416667</td>\n",
              "    </tr>\n",
              "    <tr>\n",
              "      <th>2</th>\n",
              "      <td>2</td>\n",
              "      <td>12.406004</td>\n",
              "      <td>11.779674</td>\n",
              "      <td>1</td>\n",
              "      <td>0</td>\n",
              "      <td>20.564183</td>\n",
              "      <td>2.348305</td>\n",
              "      <td>4.696611</td>\n",
              "      <td>20.564183</td>\n",
              "      <td>1.209658</td>\n",
              "      <td>...</td>\n",
              "      <td>9.531336</td>\n",
              "      <td>49.175108</td>\n",
              "      <td>241.058637</td>\n",
              "      <td>8.609237</td>\n",
              "      <td>530</td>\n",
              "      <td>25</td>\n",
              "      <td>80.0</td>\n",
              "      <td>91.0</td>\n",
              "      <td>7.916667</td>\n",
              "      <td>3.944444</td>\n",
              "    </tr>\n",
              "  </tbody>\n",
              "</table>\n",
              "<p>3 rows × 1827 columns</p>\n",
              "</div>\n",
              "      <button class=\"colab-df-convert\" onclick=\"convertToInteractive('df-21216762-bd3e-4a2a-98c3-5af0d9677c31')\"\n",
              "              title=\"Convert this dataframe to an interactive table.\"\n",
              "              style=\"display:none;\">\n",
              "        \n",
              "  <svg xmlns=\"http://www.w3.org/2000/svg\" height=\"24px\"viewBox=\"0 0 24 24\"\n",
              "       width=\"24px\">\n",
              "    <path d=\"M0 0h24v24H0V0z\" fill=\"none\"/>\n",
              "    <path d=\"M18.56 5.44l.94 2.06.94-2.06 2.06-.94-2.06-.94-.94-2.06-.94 2.06-2.06.94zm-11 1L8.5 8.5l.94-2.06 2.06-.94-2.06-.94L8.5 2.5l-.94 2.06-2.06.94zm10 10l.94 2.06.94-2.06 2.06-.94-2.06-.94-.94-2.06-.94 2.06-2.06.94z\"/><path d=\"M17.41 7.96l-1.37-1.37c-.4-.4-.92-.59-1.43-.59-.52 0-1.04.2-1.43.59L10.3 9.45l-7.72 7.72c-.78.78-.78 2.05 0 2.83L4 21.41c.39.39.9.59 1.41.59.51 0 1.02-.2 1.41-.59l7.78-7.78 2.81-2.81c.8-.78.8-2.07 0-2.86zM5.41 20L4 18.59l7.72-7.72 1.47 1.35L5.41 20z\"/>\n",
              "  </svg>\n",
              "      </button>\n",
              "      \n",
              "  <style>\n",
              "    .colab-df-container {\n",
              "      display:flex;\n",
              "      flex-wrap:wrap;\n",
              "      gap: 12px;\n",
              "    }\n",
              "\n",
              "    .colab-df-convert {\n",
              "      background-color: #E8F0FE;\n",
              "      border: none;\n",
              "      border-radius: 50%;\n",
              "      cursor: pointer;\n",
              "      display: none;\n",
              "      fill: #1967D2;\n",
              "      height: 32px;\n",
              "      padding: 0 0 0 0;\n",
              "      width: 32px;\n",
              "    }\n",
              "\n",
              "    .colab-df-convert:hover {\n",
              "      background-color: #E2EBFA;\n",
              "      box-shadow: 0px 1px 2px rgba(60, 64, 67, 0.3), 0px 1px 3px 1px rgba(60, 64, 67, 0.15);\n",
              "      fill: #174EA6;\n",
              "    }\n",
              "\n",
              "    [theme=dark] .colab-df-convert {\n",
              "      background-color: #3B4455;\n",
              "      fill: #D2E3FC;\n",
              "    }\n",
              "\n",
              "    [theme=dark] .colab-df-convert:hover {\n",
              "      background-color: #434B5C;\n",
              "      box-shadow: 0px 1px 3px 1px rgba(0, 0, 0, 0.15);\n",
              "      filter: drop-shadow(0px 1px 2px rgba(0, 0, 0, 0.3));\n",
              "      fill: #FFFFFF;\n",
              "    }\n",
              "  </style>\n",
              "\n",
              "      <script>\n",
              "        const buttonEl =\n",
              "          document.querySelector('#df-21216762-bd3e-4a2a-98c3-5af0d9677c31 button.colab-df-convert');\n",
              "        buttonEl.style.display =\n",
              "          google.colab.kernel.accessAllowed ? 'block' : 'none';\n",
              "\n",
              "        async function convertToInteractive(key) {\n",
              "          const element = document.querySelector('#df-21216762-bd3e-4a2a-98c3-5af0d9677c31');\n",
              "          const dataTable =\n",
              "            await google.colab.kernel.invokeFunction('convertToInteractive',\n",
              "                                                     [key], {});\n",
              "          if (!dataTable) return;\n",
              "\n",
              "          const docLinkHtml = 'Like what you see? Visit the ' +\n",
              "            '<a target=\"_blank\" href=https://colab.research.google.com/notebooks/data_table.ipynb>data table notebook</a>'\n",
              "            + ' to learn more about interactive tables.';\n",
              "          element.innerHTML = '';\n",
              "          dataTable['output_type'] = 'display_data';\n",
              "          await google.colab.output.renderOutput(dataTable, element);\n",
              "          const docLink = document.createElement('div');\n",
              "          docLink.innerHTML = docLinkHtml;\n",
              "          element.appendChild(docLink);\n",
              "        }\n",
              "      </script>\n",
              "    </div>\n",
              "  </div>\n",
              "  "
            ]
          },
          "metadata": {},
          "execution_count": 21
        }
      ]
    },
    {
      "cell_type": "code",
      "source": [
        "df3 = df3.drop(['Unnamed: 0'], axis='columns')"
      ],
      "metadata": {
        "id": "JzTmpBhfKk38"
      },
      "execution_count": null,
      "outputs": []
    },
    {
      "cell_type": "markdown",
      "source": [
        "## Revisar si hay NAN"
      ],
      "metadata": {
        "id": "Qq7Uat9Q0WNt"
      }
    },
    {
      "cell_type": "code",
      "source": [
        "df3.isnull().sum().sum() # para ver el total de NaN"
      ],
      "metadata": {
        "colab": {
          "base_uri": "https://localhost:8080/"
        },
        "id": "suNnqpOS0axn",
        "outputId": "8ee17277-e292-40b2-df50-ec251a11a1a4"
      },
      "execution_count": null,
      "outputs": [
        {
          "output_type": "execute_result",
          "data": {
            "text/plain": [
              "0"
            ]
          },
          "metadata": {},
          "execution_count": 23
        }
      ]
    },
    {
      "cell_type": "code",
      "source": [
        "msno.matrix(df3)"
      ],
      "metadata": {
        "colab": {
          "base_uri": "https://localhost:8080/",
          "height": 472
        },
        "id": "mRNKQUJ478pl",
        "outputId": "bd0058a9-2140-4b82-d8b5-1d7033c0e4ef"
      },
      "execution_count": null,
      "outputs": [
        {
          "output_type": "execute_result",
          "data": {
            "text/plain": [
              "<Axes: >"
            ]
          },
          "metadata": {},
          "execution_count": 24
        },
        {
          "output_type": "display_data",
          "data": {
            "text/plain": [
              "<Figure size 2500x1000 with 2 Axes>"
            ],
            "image/png": "[encoded data removed]"
          },
          "metadata": {}
        }
      ]
    },
    {
      "cell_type": "markdown",
      "source": [
        "## Conversion a formato adecuado"
      ],
      "metadata": {
        "id": "4eLtr6gdLmmz"
      }
    },
    {
      "cell_type": "markdown",
      "source": [
        "Convertimos las variables de tipo \"objet\" a \"float64\""
      ],
      "metadata": {
        "id": "jElMxGYPyCgt"
      }
    },
    {
      "cell_type": "code",
      "source": [
        "df3.info()"
      ],
      "metadata": {
        "colab": {
          "base_uri": "https://localhost:8080/"
        },
        "id": "TN3f452uxvvD",
        "outputId": "22e2681f-f2bb-4169-adab-453fbc3a9f23"
      },
      "execution_count": null,
      "outputs": [
        {
          "output_type": "stream",
          "name": "stdout",
          "text": [
            "<class 'pandas.core.frame.DataFrame'>\n",
            "RangeIndex: 221 entries, 0 to 220\n",
            "Columns: 1826 entries, ABC to mZagreb2\n",
            "dtypes: bool(2), float64(1002), int64(325), object(497)\n",
            "memory usage: 3.1+ MB\n"
          ]
        }
      ]
    },
    {
      "cell_type": "code",
      "source": [
        "df3_objects_colums = df3.select_dtypes(include=[\"object\"]).columns.tolist()"
      ],
      "metadata": {
        "id": "_8HYyMeUx_xf"
      },
      "execution_count": null,
      "outputs": []
    },
    {
      "cell_type": "code",
      "source": [
        "# función tomada de [1]\n",
        "def isnumber(x):\n",
        "  try:\n",
        "    float(x)\n",
        "    return True\n",
        "  except:\n",
        "    return False"
      ],
      "metadata": {
        "id": "L5GTvCOxv_1f"
      },
      "execution_count": null,
      "outputs": []
    },
    {
      "cell_type": "code",
      "source": [
        "df3 = df3[df3.applymap(isnumber)]"
      ],
      "metadata": {
        "id": "ITqbFBExwka-"
      },
      "execution_count": null,
      "outputs": []
    },
    {
      "cell_type": "code",
      "source": [
        "df3.info()"
      ],
      "metadata": {
        "colab": {
          "base_uri": "https://localhost:8080/"
        },
        "id": "1W1tg4w0xb87",
        "outputId": "6dc1d4e3-1715-4300-c10b-0f0d88ac8dc1"
      },
      "execution_count": null,
      "outputs": [
        {
          "output_type": "stream",
          "name": "stdout",
          "text": [
            "<class 'pandas.core.frame.DataFrame'>\n",
            "RangeIndex: 221 entries, 0 to 220\n",
            "Columns: 1826 entries, ABC to mZagreb2\n",
            "dtypes: bool(2), float64(1002), int64(325), object(497)\n",
            "memory usage: 3.1+ MB\n"
          ]
        }
      ]
    },
    {
      "cell_type": "code",
      "source": [
        "df3_objects_colums = df3.select_dtypes(include=[\"object\"]).columns.tolist()"
      ],
      "metadata": {
        "id": "2JwTvNgAxYep"
      },
      "execution_count": null,
      "outputs": []
    },
    {
      "cell_type": "code",
      "source": [
        "for col in df3_objects_colums:\n",
        "    df3[col] = df3[col].astype('float64')"
      ],
      "metadata": {
        "id": "0H4yp0dyyyVH"
      },
      "execution_count": null,
      "outputs": []
    },
    {
      "cell_type": "code",
      "source": [
        "df3.info()"
      ],
      "metadata": {
        "colab": {
          "base_uri": "https://localhost:8080/"
        },
        "id": "E0Cj-4cMzI88",
        "outputId": "2a02120a-e20a-4783-c376-b477cfb33223"
      },
      "execution_count": null,
      "outputs": [
        {
          "output_type": "stream",
          "name": "stdout",
          "text": [
            "<class 'pandas.core.frame.DataFrame'>\n",
            "RangeIndex: 221 entries, 0 to 220\n",
            "Columns: 1826 entries, ABC to mZagreb2\n",
            "dtypes: bool(2), float64(1499), int64(325)\n",
            "memory usage: 3.1 MB\n"
          ]
        }
      ]
    },
    {
      "cell_type": "markdown",
      "source": [
        "## Revisar si hay NaNs nuevamente"
      ],
      "metadata": {
        "id": "FLbmIQEyKi_Z"
      }
    },
    {
      "cell_type": "code",
      "source": [
        "# para ver el total de NaN, los cuales se concentran en las columnas que previamente eran \"object\"\n",
        "df3.isnull().sum().sum()"
      ],
      "metadata": {
        "colab": {
          "base_uri": "https://localhost:8080/"
        },
        "id": "6QLuyNTnLJ4W",
        "outputId": "e7520ad9-01f6-4f7e-d4bb-94c870dbcc79"
      },
      "execution_count": null,
      "outputs": [
        {
          "output_type": "execute_result",
          "data": {
            "text/plain": [
              "83432"
            ]
          },
          "metadata": {},
          "execution_count": 33
        }
      ]
    },
    {
      "cell_type": "code",
      "source": [
        "msno.matrix(df3[df3_objects_colums])"
      ],
      "metadata": {
        "colab": {
          "base_uri": "https://localhost:8080/",
          "height": 475
        },
        "id": "xBJSh9rUxqnv",
        "outputId": "f55f9a62-7f5d-4501-aa77-33942710cedb"
      },
      "execution_count": null,
      "outputs": [
        {
          "output_type": "execute_result",
          "data": {
            "text/plain": [
              "<Axes: >"
            ]
          },
          "metadata": {},
          "execution_count": 34
        },
        {
          "output_type": "display_data",
          "data": {
            "text/plain": [
              "<Figure size 2500x1000 with 2 Axes>"
            ],
            "image/png": "[encoded data removed]"
          },
          "metadata": {}
        }
      ]
    },
    {
      "cell_type": "code",
      "source": [
        "df3 = df3.dropna(axis='columns', thresh=200)"
      ],
      "metadata": {
        "id": "Tx7-_m8S04sM"
      },
      "execution_count": null,
      "outputs": []
    },
    {
      "cell_type": "code",
      "source": [
        "df3.info()"
      ],
      "metadata": {
        "colab": {
          "base_uri": "https://localhost:8080/"
        },
        "id": "jt_MKN_m7uEb",
        "outputId": "3a4c6962-1657-4d58-fcba-d831c8d78c6c"
      },
      "execution_count": null,
      "outputs": [
        {
          "output_type": "stream",
          "name": "stdout",
          "text": [
            "<class 'pandas.core.frame.DataFrame'>\n",
            "RangeIndex: 221 entries, 0 to 220\n",
            "Columns: 1434 entries, ABC to mZagreb2\n",
            "dtypes: bool(2), float64(1107), int64(325)\n",
            "memory usage: 2.4 MB\n"
          ]
        }
      ]
    },
    {
      "cell_type": "code",
      "source": [
        "df3.isnull().sum().sum()"
      ],
      "metadata": {
        "colab": {
          "base_uri": "https://localhost:8080/"
        },
        "id": "4EKKvUDR1Iym",
        "outputId": "246580ce-c367-45dd-a9dd-3f33097ee7a3"
      },
      "execution_count": null,
      "outputs": [
        {
          "output_type": "execute_result",
          "data": {
            "text/plain": [
              "329"
            ]
          },
          "metadata": {},
          "execution_count": 37
        }
      ]
    },
    {
      "cell_type": "code",
      "source": [
        "msno.matrix(df3)"
      ],
      "metadata": {
        "colab": {
          "base_uri": "https://localhost:8080/",
          "height": 472
        },
        "id": "Urhux88E6m8e",
        "outputId": "23c72cfc-f853-4a26-f4ec-214de5375d78"
      },
      "execution_count": null,
      "outputs": [
        {
          "output_type": "execute_result",
          "data": {
            "text/plain": [
              "<Axes: >"
            ]
          },
          "metadata": {},
          "execution_count": 38
        },
        {
          "output_type": "display_data",
          "data": {
            "text/plain": [
              "<Figure size 2500x1000 with 2 Axes>"
            ],
            "image/png": "[encoded data removed]"
          },
          "metadata": {}
        }
      ]
    },
    {
      "cell_type": "markdown",
      "source": [
        "## Imputación de datos"
      ],
      "metadata": {
        "id": "Kk7mBDWo-xsV"
      }
    },
    {
      "cell_type": "code",
      "source": [
        "df3_NaN_columns = df3.columns[df3.isnull().any()].tolist()"
      ],
      "metadata": {
        "id": "uLmTDzxh9YAh"
      },
      "execution_count": null,
      "outputs": []
    },
    {
      "cell_type": "code",
      "source": [
        "# Reemplazar NaN por el promedio de valores de su respectiva columna\n",
        "for col in df3_NaN_columns:\n",
        "  df3[col] = df3[col].fillna(value=df3[col].mean())"
      ],
      "metadata": {
        "id": "OgZDgkq_8lqp"
      },
      "execution_count": null,
      "outputs": []
    },
    {
      "cell_type": "markdown",
      "source": [
        "# Creacion de las Bases de Datos para el entrenamiento"
      ],
      "metadata": {
        "id": "bKnWAp9D_UGu"
      }
    },
    {
      "cell_type": "markdown",
      "source": [
        "Resumen de incidencias de sideróforos en la base de datos\n",
        "\n",
        "* hydroxamate 130\n",
        "* catecholate 153\n",
        "* a-hydroxycarboxylate 15\n",
        "* carboxylate 73\n",
        "* phenolate 19\n",
        "* citrate 19\n",
        "* other 17\n",
        "\n",
        "De la data analizada sabemos que solo tres sideróforos (hydroxamate, catecholate y carboxylate) tienen la suficiente data, relativamente hablando, para entrenar un modelo de clasificación. Por lo tanto, generaremos **2 bases de datos**, una de clasificación binaria entre hydroxamate y catecholate, que contienen la mayor cantidad de data y están casi balanceados. Y una base de datos de ternaria ebtre hydroxamate, catecholate y carboxylate, en la que analizaremos el balance de la data antes de entrenar el modelo."
      ],
      "metadata": {
        "id": "3pBOiSxCyfpa"
      }
    },
    {
      "cell_type": "markdown",
      "source": [
        "## Base de datos binaria (clasificación hydroxamate y catecholate)"
      ],
      "metadata": {
        "id": "qHImwhga0Tw6"
      }
    },
    {
      "cell_type": "code",
      "source": [
        "yb = df_target.copy() # creamos la columna target a partir de la base del target dataframe"
      ],
      "metadata": {
        "id": "2DvtLtLnzARW"
      },
      "execution_count": null,
      "outputs": []
    },
    {
      "cell_type": "code",
      "source": [
        "# generamos una nueva columna donde si hay presencia solo de 'hydroxamate' es 1 y si hay presencia solo de 'catecholate' es 0, en otros casos se considera NaN\n",
        "conditionlist = [\n",
        "    (yb['hydroxamate'] == 0) & (yb['catecholate'] == 1),\n",
        "    (yb['hydroxamate'] == 1) & (yb['catecholate'] == 0)]\n",
        "choicelist = [0, 1]\n",
        "yb['target'] = np.select(conditionlist, choicelist, default=np.nan)"
      ],
      "metadata": {
        "id": "pAXR7aZJx9uo"
      },
      "execution_count": null,
      "outputs": []
    },
    {
      "cell_type": "code",
      "source": [
        "yb_NaN_pos = yb.isnull().any(axis=1)\n",
        "yb.dropna(inplace=True)\n",
        "yb = yb.drop(['hydroxamate', 'catecholate', 'a-hydroxycarboxylate', 'carboxylate', 'phenolate', 'citrate', 'other'], axis=1)\n",
        "yb.target = yb.target.astype('int64')"
      ],
      "metadata": {
        "id": "9TBzLtKN_fgQ"
      },
      "execution_count": null,
      "outputs": []
    },
    {
      "cell_type": "code",
      "source": [
        "# creamos un diagrama de barras para ver el balance del target\n",
        "sns.barplot(x=yb.target.value_counts().index, y=yb.target.value_counts())\n",
        "plt.xlabel(\"Casos\")\n",
        "plt.ylabel(\"cantidad\")\n",
        "plt.title(\"Balance del target binario\")\n",
        "plt.show()"
      ],
      "metadata": {
        "colab": {
          "base_uri": "https://localhost:8080/",
          "height": 472
        },
        "id": "4AcIamdJ5A8I",
        "outputId": "59f45396-e031-4b4c-88c1-8be8a2d92b2b"
      },
      "execution_count": null,
      "outputs": [
        {
          "output_type": "display_data",
          "data": {
            "text/plain": [
              "<Figure size 640x480 with 1 Axes>"
            ],
            "image/png": "[encoded data removed]"
          },
          "metadata": {}
        }
      ]
    },
    {
      "cell_type": "code",
      "source": [
        "# Definimos el conjunto de variables independientes que utilizaremos para entrenar los modelos de target binario\n",
        "Xb1 = df1.copy() # RDKit\n",
        "Xb2 = df2.copy() # Morgan fingerprints\n",
        "Xb3 = df3.copy() # Mordred\n",
        "\n",
        "# eliminamos las filas en las cuales 'yb' tenia NaN\n",
        "Xb1.drop(Xb1[yb_NaN_pos].index, inplace=True)\n",
        "Xb2.drop(Xb2[yb_NaN_pos].index, inplace=True)\n",
        "Xb3.drop(Xb3[yb_NaN_pos].index, inplace=True)"
      ],
      "metadata": {
        "id": "Ep9EhhWS-tRs"
      },
      "execution_count": null,
      "outputs": []
    },
    {
      "cell_type": "code",
      "source": [
        "yb.shape"
      ],
      "metadata": {
        "colab": {
          "base_uri": "https://localhost:8080/"
        },
        "id": "cWakq4l3Bs5Z",
        "outputId": "571baeda-f82d-42c6-8496-5f6f117595a9"
      },
      "execution_count": null,
      "outputs": [
        {
          "output_type": "execute_result",
          "data": {
            "text/plain": [
              "(184, 1)"
            ]
          },
          "metadata": {},
          "execution_count": 46
        }
      ]
    },
    {
      "cell_type": "code",
      "source": [
        "Xb1.shape"
      ],
      "metadata": {
        "colab": {
          "base_uri": "https://localhost:8080/"
        },
        "id": "ahTe9ZLkBtAt",
        "outputId": "21320cac-300f-48e9-e223-7703b18ff7d9"
      },
      "execution_count": null,
      "outputs": [
        {
          "output_type": "execute_result",
          "data": {
            "text/plain": [
              "(184, 118)"
            ]
          },
          "metadata": {},
          "execution_count": 47
        }
      ]
    },
    {
      "cell_type": "code",
      "source": [
        "Xb2.shape"
      ],
      "metadata": {
        "colab": {
          "base_uri": "https://localhost:8080/"
        },
        "id": "ey7IP_lWBtGx",
        "outputId": "f0601d2d-ca1a-4942-c3eb-0a8f2cfe6946"
      },
      "execution_count": null,
      "outputs": [
        {
          "output_type": "execute_result",
          "data": {
            "text/plain": [
              "(184, 2048)"
            ]
          },
          "metadata": {},
          "execution_count": 48
        }
      ]
    },
    {
      "cell_type": "code",
      "source": [
        "Xb3.shape"
      ],
      "metadata": {
        "colab": {
          "base_uri": "https://localhost:8080/"
        },
        "id": "Bw1YGYyjBtNa",
        "outputId": "bf518409-7353-4692-ac71-00d4f4710082"
      },
      "execution_count": null,
      "outputs": [
        {
          "output_type": "execute_result",
          "data": {
            "text/plain": [
              "(184, 1434)"
            ]
          },
          "metadata": {},
          "execution_count": 49
        }
      ]
    },
    {
      "cell_type": "markdown",
      "source": [
        "## Base de datos ternaria (clasificación hydroxamate, catecholate y carboxylate)"
      ],
      "metadata": {
        "id": "nIrrc9df0x6o"
      }
    },
    {
      "cell_type": "code",
      "source": [
        "yt = df_target.copy() # creamos la columna target a partir de la base del target dataframe"
      ],
      "metadata": {
        "id": "F1MAzE3k044Z"
      },
      "execution_count": null,
      "outputs": []
    },
    {
      "cell_type": "code",
      "source": [
        "# generamos una nueva columna donde si hay presencia solo de 'hydroxamate' es 2 y si hay presencia solo de 'catecholate' es 1,\n",
        "# y si hay presencia solo de 'carboxylate' es 0, en otros casos se considera NaN.\n",
        "conditionlist = [\n",
        "    (yt['hydroxamate'] == 0) & (yt['catecholate'] == 0) & (yt['carboxylate'] == 1),\n",
        "    (yt['hydroxamate'] == 0) & (yt['catecholate'] == 1) & (yt['carboxylate'] == 0),\n",
        "    (yt['hydroxamate'] == 1) & (yt['catecholate'] == 0) & (yt['carboxylate'] == 0)]\n",
        "choicelist = [0, 1, 2]\n",
        "yt['target'] = np.select(conditionlist, choicelist, default=np.nan)"
      ],
      "metadata": {
        "id": "oLMAnKdp09jc"
      },
      "execution_count": null,
      "outputs": []
    },
    {
      "cell_type": "code",
      "source": [
        "yt_NaN_pos = yt.isnull().any(axis=1)\n",
        "yt.dropna(inplace=True)\n",
        "yt = yt.drop(['hydroxamate', 'catecholate', 'a-hydroxycarboxylate', 'carboxylate', 'phenolate', 'citrate', 'other'], axis=1)\n",
        "yt.target = yt.target.astype('int64')"
      ],
      "metadata": {
        "id": "V8J2V70u189Q"
      },
      "execution_count": null,
      "outputs": []
    },
    {
      "cell_type": "code",
      "source": [
        "# creamos un diagrama de barras para ver el balance del target\n",
        "sns.barplot(x=yt.target.value_counts().index, y=yt.target.value_counts())\n",
        "plt.xlabel(\"Casos\")\n",
        "plt.ylabel(\"cantidad\")\n",
        "plt.title(\"Balance del target ternario\")\n",
        "plt.show()"
      ],
      "metadata": {
        "colab": {
          "base_uri": "https://localhost:8080/",
          "height": 472
        },
        "id": "6A_R__Ig2F8f",
        "outputId": "0b07ce3f-3748-4b42-c254-7f7d8e5d8009"
      },
      "execution_count": null,
      "outputs": [
        {
          "output_type": "display_data",
          "data": {
            "text/plain": [
              "<Figure size 640x480 with 1 Axes>"
            ],
            "image/png": "[encoded data removed]"
          },
          "metadata": {}
        }
      ]
    },
    {
      "cell_type": "code",
      "source": [
        "# Definimos el conjunto de variables independientes que utilizaremos para entrenar los modelos de target ternario\n",
        "Xt1 = df1.copy() # RDKit\n",
        "Xt2 = df2.copy() # Morgan fingerprints\n",
        "Xt3 = df3.copy() # Mordred\n",
        "\n",
        "# eliminamos las filas en las cuales 'yt' tenia NaN\n",
        "Xt1.drop(Xt1[yt_NaN_pos].index, inplace=True)\n",
        "Xt2.drop(Xt2[yt_NaN_pos].index, inplace=True)\n",
        "Xt3.drop(Xt3[yt_NaN_pos].index, inplace=True)"
      ],
      "metadata": {
        "id": "wQzd1M9Y5SEl"
      },
      "execution_count": null,
      "outputs": []
    },
    {
      "cell_type": "code",
      "source": [
        "yt.shape"
      ],
      "metadata": {
        "colab": {
          "base_uri": "https://localhost:8080/"
        },
        "id": "KXFF8BAXBlfR",
        "outputId": "0f23fab8-852f-4240-a6f2-c95ace51ea84"
      },
      "execution_count": null,
      "outputs": [
        {
          "output_type": "execute_result",
          "data": {
            "text/plain": [
              "(148, 1)"
            ]
          },
          "metadata": {},
          "execution_count": 55
        }
      ]
    },
    {
      "cell_type": "code",
      "source": [
        "Xt1.shape"
      ],
      "metadata": {
        "colab": {
          "base_uri": "https://localhost:8080/"
        },
        "id": "Br4QqlO3CKd5",
        "outputId": "6f5fc1c8-3ab4-44ab-dcd5-f3b112fbdd6f"
      },
      "execution_count": null,
      "outputs": [
        {
          "output_type": "execute_result",
          "data": {
            "text/plain": [
              "(148, 118)"
            ]
          },
          "metadata": {},
          "execution_count": 56
        }
      ]
    },
    {
      "cell_type": "code",
      "source": [
        "Xt2.shape"
      ],
      "metadata": {
        "colab": {
          "base_uri": "https://localhost:8080/"
        },
        "id": "aMDgp6N-CKji",
        "outputId": "b059e569-09c1-4209-910d-9496c94cbb0d"
      },
      "execution_count": null,
      "outputs": [
        {
          "output_type": "execute_result",
          "data": {
            "text/plain": [
              "(148, 2048)"
            ]
          },
          "metadata": {},
          "execution_count": 57
        }
      ]
    },
    {
      "cell_type": "code",
      "source": [
        "Xt3.shape"
      ],
      "metadata": {
        "colab": {
          "base_uri": "https://localhost:8080/"
        },
        "id": "ZO7tF2ZHCKpN",
        "outputId": "85309f4a-4292-42dc-9fdb-e7c68bd3e28f"
      },
      "execution_count": null,
      "outputs": [
        {
          "output_type": "execute_result",
          "data": {
            "text/plain": [
              "(148, 1434)"
            ]
          },
          "metadata": {},
          "execution_count": 58
        }
      ]
    },
    {
      "cell_type": "markdown",
      "source": [
        "Finalmente, hemos obtenido 6 bases de datos, 3 de las cuales serán utilizadas para una categorización binaria, y en las que se comparará que descriptor (RDKit, Morgan fingerprints o Mordred), proporciona un mejor resultado. Las otras 3 bases de datos serán utilizadas para una categorización terciaria, en la que también se compararan la performance de los descriptores. Es necesario aclarar que la data generada esta desbalanceada, no obstante, se realizaran los modelos de entrenamiento y analizaremos los resultados.\n",
        "\n",
        "### **Bases de datos:**\n",
        "\n",
        "* Xb1 + yb : clasificación binaria descriptor RDKit\n",
        "* Xb2 + yb : clasificación binaria descriptor Morgan fingerprints\n",
        "* Xb3 + yb : clasificación binaria descriptor Mordred\n",
        "* Xt1 + yt : clasificación ternaria descriptor RDKit\n",
        "* Xt2 + yt : clasificación ternaria descriptor Morgan fingerprints\n",
        "* Xt3 + yt : clasificación ternaria descriptor Mordred"
      ],
      "metadata": {
        "id": "YTKmC5jJCSt-"
      }
    },
    {
      "cell_type": "markdown",
      "source": [
        "# Modelos ML"
      ],
      "metadata": {
        "id": "xE_LsDeMYdFk"
      }
    },
    {
      "cell_type": "code",
      "source": [
        "from sklearn.model_selection import train_test_split\n",
        "from sklearn.svm import SVC\n",
        "from sklearn.neighbors import KNeighborsClassifier\n",
        "from sklearn.metrics import classification_report"
      ],
      "metadata": {
        "id": "lk69Ia-3tezL"
      },
      "execution_count": null,
      "outputs": []
    },
    {
      "cell_type": "markdown",
      "source": [
        "## Caso Xb1 + yb : clasificación binaria descriptor RDKit"
      ],
      "metadata": {
        "id": "sYD2McehYiKh"
      }
    },
    {
      "cell_type": "code",
      "source": [
        "data_train, data_test, target_train, target_test = train_test_split(Xb1, yb, random_state=42)"
      ],
      "metadata": {
        "id": "SuMQg8DOYg6L"
      },
      "execution_count": null,
      "outputs": []
    },
    {
      "cell_type": "markdown",
      "source": [
        "#### SVM"
      ],
      "metadata": {
        "id": "0Vw4rE7KthxR"
      }
    },
    {
      "cell_type": "code",
      "source": [
        "svm1b = SVC(kernel='linear', C=1.0)\n",
        "svm1b.fit(data_train,target_train)\n",
        "y_pred1b = svm1b.predict(data_test)"
      ],
      "metadata": {
        "colab": {
          "base_uri": "https://localhost:8080/"
        },
        "id": "AeG9EQuOslHI",
        "outputId": "3b8bf4a6-3439-40a9-f39a-91f1f88eae46"
      },
      "execution_count": null,
      "outputs": [
        {
          "output_type": "stream",
          "name": "stderr",
          "text": [
            "/usr/local/lib/python3.10/dist-packages/sklearn/utils/validation.py:1143: DataConversionWarning: A column-vector y was passed when a 1d array was expected. Please change the shape of y to (n_samples, ), for example using ravel().\n",
            "  y = column_or_1d(y, warn=True)\n"
          ]
        }
      ]
    },
    {
      "cell_type": "code",
      "source": [
        "print(\"Modelo SVM para Xb1 + yb:\\n\")\n",
        "print(classification_report(target_test, y_pred1b))"
      ],
      "metadata": {
        "colab": {
          "base_uri": "https://localhost:8080/"
        },
        "id": "m0ds2lGAse8J",
        "outputId": "d4a832c9-d439-47ae-dcb4-bb729cf9c14c"
      },
      "execution_count": null,
      "outputs": [
        {
          "output_type": "stream",
          "name": "stdout",
          "text": [
            "Modelo SVM para Xb1 + yb:\n",
            "\n",
            "              precision    recall  f1-score   support\n",
            "\n",
            "           0       0.90      0.90      0.90        10\n",
            "           1       0.97      0.97      0.97        36\n",
            "\n",
            "    accuracy                           0.96        46\n",
            "   macro avg       0.94      0.94      0.94        46\n",
            "weighted avg       0.96      0.96      0.96        46\n",
            "\n"
          ]
        }
      ]
    },
    {
      "cell_type": "markdown",
      "source": [
        "#### KNN"
      ],
      "metadata": {
        "id": "_RQm1haTtm1W"
      }
    },
    {
      "cell_type": "code",
      "source": [
        "knn1b = KNeighborsClassifier(n_neighbors=3)\n",
        "knn1b.fit(data_train,target_train)\n",
        "y_pred1b = knn1b.predict(data_test)"
      ],
      "metadata": {
        "colab": {
          "base_uri": "https://localhost:8080/"
        },
        "id": "wipjPBwvtgmC",
        "outputId": "b7404b2f-332a-46de-b58d-b9169df55dca"
      },
      "execution_count": null,
      "outputs": [
        {
          "output_type": "stream",
          "name": "stderr",
          "text": [
            "/usr/local/lib/python3.10/dist-packages/sklearn/neighbors/_classification.py:215: DataConversionWarning: A column-vector y was passed when a 1d array was expected. Please change the shape of y to (n_samples,), for example using ravel().\n",
            "  return self._fit(X, y)\n"
          ]
        }
      ]
    },
    {
      "cell_type": "code",
      "source": [
        "print(\"Modelo KNN para Xb1 + yb:\\n\")\n",
        "print(classification_report(target_test, y_pred1b))"
      ],
      "metadata": {
        "colab": {
          "base_uri": "https://localhost:8080/"
        },
        "id": "D5_bO3c3uA7h",
        "outputId": "d8af055c-623c-4e82-a0b2-6c3c85f0ab45"
      },
      "execution_count": null,
      "outputs": [
        {
          "output_type": "stream",
          "name": "stdout",
          "text": [
            "Modelo KNN para Xb1 + yb:\n",
            "\n",
            "              precision    recall  f1-score   support\n",
            "\n",
            "           0       0.57      0.80      0.67        10\n",
            "           1       0.94      0.83      0.88        36\n",
            "\n",
            "    accuracy                           0.83        46\n",
            "   macro avg       0.75      0.82      0.77        46\n",
            "weighted avg       0.86      0.83      0.84        46\n",
            "\n"
          ]
        }
      ]
    },
    {
      "cell_type": "markdown",
      "source": [
        "## Caso Xb2 + yb : clasificación binaria descriptor Morgan fingerprints"
      ],
      "metadata": {
        "id": "WRQTv5JtYmM7"
      }
    },
    {
      "cell_type": "code",
      "source": [
        "data_train, data_test, target_train, target_test = train_test_split(Xb2, yb, random_state=42)"
      ],
      "metadata": {
        "id": "y726gV7BulR3"
      },
      "execution_count": null,
      "outputs": []
    },
    {
      "cell_type": "markdown",
      "source": [
        "#### SVM"
      ],
      "metadata": {
        "id": "X0SGI7X-uXIl"
      }
    },
    {
      "cell_type": "code",
      "source": [
        "svm2b = SVC(kernel='linear', C=1.0)\n",
        "svm2b.fit(data_train,target_train)\n",
        "y_pred2b = svm2b.predict(data_test)"
      ],
      "metadata": {
        "colab": {
          "base_uri": "https://localhost:8080/"
        },
        "id": "nnMTZVakuZCE",
        "outputId": "b6161f52-c784-4373-b8ff-1d9cb4077577"
      },
      "execution_count": null,
      "outputs": [
        {
          "output_type": "stream",
          "name": "stderr",
          "text": [
            "/usr/local/lib/python3.10/dist-packages/sklearn/utils/validation.py:1143: DataConversionWarning: A column-vector y was passed when a 1d array was expected. Please change the shape of y to (n_samples, ), for example using ravel().\n",
            "  y = column_or_1d(y, warn=True)\n"
          ]
        }
      ]
    },
    {
      "cell_type": "code",
      "source": [
        "print(\"Modelo SVM para Xb2 + yb:\\n\")\n",
        "print(classification_report(target_test, y_pred2b))"
      ],
      "metadata": {
        "colab": {
          "base_uri": "https://localhost:8080/"
        },
        "id": "xGJLK_gBuh08",
        "outputId": "16639495-0878-496d-9db9-8d75bd23dced"
      },
      "execution_count": null,
      "outputs": [
        {
          "output_type": "stream",
          "name": "stdout",
          "text": [
            "Modelo SVM para Xb2 + yb:\n",
            "\n",
            "              precision    recall  f1-score   support\n",
            "\n",
            "           0       1.00      1.00      1.00        10\n",
            "           1       1.00      1.00      1.00        36\n",
            "\n",
            "    accuracy                           1.00        46\n",
            "   macro avg       1.00      1.00      1.00        46\n",
            "weighted avg       1.00      1.00      1.00        46\n",
            "\n"
          ]
        }
      ]
    },
    {
      "cell_type": "markdown",
      "source": [
        "#### KNN"
      ],
      "metadata": {
        "id": "g2lFvxhlukDw"
      }
    },
    {
      "cell_type": "code",
      "source": [
        "knn2b = KNeighborsClassifier(n_neighbors=3)\n",
        "knn2b.fit(data_train,target_train)\n",
        "y_pred2b = knn2b.predict(data_test)"
      ],
      "metadata": {
        "colab": {
          "base_uri": "https://localhost:8080/"
        },
        "id": "YpTHdnPMuyK-",
        "outputId": "a6a7758e-2e11-41fe-d11f-0360b9c5009c"
      },
      "execution_count": null,
      "outputs": [
        {
          "output_type": "stream",
          "name": "stderr",
          "text": [
            "/usr/local/lib/python3.10/dist-packages/sklearn/neighbors/_classification.py:215: DataConversionWarning: A column-vector y was passed when a 1d array was expected. Please change the shape of y to (n_samples,), for example using ravel().\n",
            "  return self._fit(X, y)\n"
          ]
        }
      ]
    },
    {
      "cell_type": "code",
      "source": [
        "print(\"Modelo KNN para Xb2 + yb:\\n\")\n",
        "print(classification_report(target_test, y_pred2b))"
      ],
      "metadata": {
        "colab": {
          "base_uri": "https://localhost:8080/"
        },
        "id": "LTzTfZpKu3r0",
        "outputId": "75470c9a-d0c5-436b-e77d-a149c31d1621"
      },
      "execution_count": null,
      "outputs": [
        {
          "output_type": "stream",
          "name": "stdout",
          "text": [
            "Modelo KNN para Xb2 + yb:\n",
            "\n",
            "              precision    recall  f1-score   support\n",
            "\n",
            "           0       1.00      1.00      1.00        10\n",
            "           1       1.00      1.00      1.00        36\n",
            "\n",
            "    accuracy                           1.00        46\n",
            "   macro avg       1.00      1.00      1.00        46\n",
            "weighted avg       1.00      1.00      1.00        46\n",
            "\n"
          ]
        }
      ]
    },
    {
      "cell_type": "markdown",
      "source": [
        "## Caso Xb3 + yb : clasificación binaria descriptor Mordred"
      ],
      "metadata": {
        "id": "XjU3cxt9Ymg5"
      }
    },
    {
      "cell_type": "code",
      "source": [
        "data_train, data_test, target_train, target_test = train_test_split(Xb3, yb, random_state=42)"
      ],
      "metadata": {
        "id": "gb_OWW1AYmo_"
      },
      "execution_count": null,
      "outputs": []
    },
    {
      "cell_type": "markdown",
      "source": [
        "#### SVM"
      ],
      "metadata": {
        "id": "mPv4TWWJxGTb"
      }
    },
    {
      "cell_type": "code",
      "source": [
        "svm3b = SVC(kernel='linear', C=1.0)\n",
        "svm3b.fit(data_train,target_train)\n",
        "y_pred3b = svm3b.predict(data_test)"
      ],
      "metadata": {
        "colab": {
          "base_uri": "https://localhost:8080/"
        },
        "id": "z0OCossGxLBX",
        "outputId": "6b28abe4-aa6e-4b58-90c2-8b98219ed629"
      },
      "execution_count": null,
      "outputs": [
        {
          "output_type": "stream",
          "name": "stderr",
          "text": [
            "/usr/local/lib/python3.10/dist-packages/sklearn/utils/validation.py:1143: DataConversionWarning: A column-vector y was passed when a 1d array was expected. Please change the shape of y to (n_samples, ), for example using ravel().\n",
            "  y = column_or_1d(y, warn=True)\n"
          ]
        }
      ]
    },
    {
      "cell_type": "code",
      "source": [
        "print(\"Modelo SVM para Xb3 + yb:\\n\")\n",
        "print(classification_report(target_test, y_pred3b))"
      ],
      "metadata": {
        "id": "Typ5wgXwxQ1E",
        "colab": {
          "base_uri": "https://localhost:8080/"
        },
        "outputId": "c7ee28b8-f429-401e-e353-60872240a9c4"
      },
      "execution_count": null,
      "outputs": [
        {
          "output_type": "stream",
          "name": "stdout",
          "text": [
            "Modelo SVM para Xb3 + yb:\n",
            "\n",
            "              precision    recall  f1-score   support\n",
            "\n",
            "           0       0.77      1.00      0.87        10\n",
            "           1       1.00      0.92      0.96        36\n",
            "\n",
            "    accuracy                           0.93        46\n",
            "   macro avg       0.88      0.96      0.91        46\n",
            "weighted avg       0.95      0.93      0.94        46\n",
            "\n"
          ]
        }
      ]
    },
    {
      "cell_type": "markdown",
      "source": [
        "#### KNN"
      ],
      "metadata": {
        "id": "uQSC1zcrxHwA"
      }
    },
    {
      "cell_type": "code",
      "source": [
        "knn3b = KNeighborsClassifier(n_neighbors=3)\n",
        "knn3b.fit(data_train,target_train)\n",
        "y_pred3b = knn3b.predict(data_test)"
      ],
      "metadata": {
        "id": "oZbKeEODxXXq",
        "colab": {
          "base_uri": "https://localhost:8080/"
        },
        "outputId": "58721255-5f9e-4fbc-d3bd-fc9a7915c593"
      },
      "execution_count": null,
      "outputs": [
        {
          "output_type": "stream",
          "name": "stderr",
          "text": [
            "/usr/local/lib/python3.10/dist-packages/sklearn/neighbors/_classification.py:215: DataConversionWarning: A column-vector y was passed when a 1d array was expected. Please change the shape of y to (n_samples,), for example using ravel().\n",
            "  return self._fit(X, y)\n"
          ]
        }
      ]
    },
    {
      "cell_type": "code",
      "source": [
        "print(\"Modelo KNN para Xb3 + yb:\\n\")\n",
        "print(classification_report(target_test, y_pred3b))"
      ],
      "metadata": {
        "id": "9lk8rfmkxbc9",
        "colab": {
          "base_uri": "https://localhost:8080/"
        },
        "outputId": "d89fcf05-bbf3-401f-ca61-1175de99d602"
      },
      "execution_count": null,
      "outputs": [
        {
          "output_type": "stream",
          "name": "stdout",
          "text": [
            "Modelo KNN para Xb3 + yb:\n",
            "\n",
            "              precision    recall  f1-score   support\n",
            "\n",
            "           0       0.62      0.80      0.70        10\n",
            "           1       0.94      0.86      0.90        36\n",
            "\n",
            "    accuracy                           0.85        46\n",
            "   macro avg       0.78      0.83      0.80        46\n",
            "weighted avg       0.87      0.85      0.85        46\n",
            "\n"
          ]
        }
      ]
    },
    {
      "cell_type": "markdown",
      "source": [
        "## Caso Xt1 + yt : clasificación ternaria descriptor RDKit"
      ],
      "metadata": {
        "id": "mzkXlyOSYmvO"
      }
    },
    {
      "cell_type": "code",
      "source": [
        "data_train, data_test, target_train, target_test = train_test_split(Xt1, yt, random_state=42)"
      ],
      "metadata": {
        "id": "d6KussuHYm1n"
      },
      "execution_count": null,
      "outputs": []
    },
    {
      "cell_type": "markdown",
      "source": [
        "#### SVM"
      ],
      "metadata": {
        "id": "yD37PRxr14mG"
      }
    },
    {
      "cell_type": "code",
      "source": [
        "svm1t = SVC(kernel='linear', C=1.0)\n",
        "svm1t.fit(data_train,target_train)\n",
        "y_pred1t = svm1t.predict(data_test)"
      ],
      "metadata": {
        "colab": {
          "base_uri": "https://localhost:8080/"
        },
        "id": "8Cc2zexl1tne",
        "outputId": "083032e5-d610-4347-caf2-e36f76a131c9"
      },
      "execution_count": null,
      "outputs": [
        {
          "output_type": "stream",
          "name": "stderr",
          "text": [
            "/usr/local/lib/python3.10/dist-packages/sklearn/utils/validation.py:1143: DataConversionWarning: A column-vector y was passed when a 1d array was expected. Please change the shape of y to (n_samples, ), for example using ravel().\n",
            "  y = column_or_1d(y, warn=True)\n"
          ]
        }
      ]
    },
    {
      "cell_type": "code",
      "source": [
        "print(\"Modelo SVM para Xt1 + yt:\\n\")\n",
        "print(classification_report(target_test, y_pred1t))"
      ],
      "metadata": {
        "colab": {
          "base_uri": "https://localhost:8080/"
        },
        "id": "hImVrP9c109p",
        "outputId": "6539c838-430b-442d-b56f-1663b2be3eb3"
      },
      "execution_count": null,
      "outputs": [
        {
          "output_type": "stream",
          "name": "stdout",
          "text": [
            "Modelo SVM para Xt1 + yt:\n",
            "\n",
            "              precision    recall  f1-score   support\n",
            "\n",
            "           0       0.80      0.80      0.80         5\n",
            "           1       0.90      0.90      0.90        10\n",
            "           2       0.95      0.95      0.95        22\n",
            "\n",
            "    accuracy                           0.92        37\n",
            "   macro avg       0.88      0.88      0.88        37\n",
            "weighted avg       0.92      0.92      0.92        37\n",
            "\n"
          ]
        }
      ]
    },
    {
      "cell_type": "markdown",
      "source": [
        "#### KNN"
      ],
      "metadata": {
        "id": "C4WRnQu216Sx"
      }
    },
    {
      "cell_type": "code",
      "source": [
        "knn1t = KNeighborsClassifier(n_neighbors=3)\n",
        "knn1t.fit(data_train,target_train)\n",
        "y_pred1t = knn1t.predict(data_test)"
      ],
      "metadata": {
        "colab": {
          "base_uri": "https://localhost:8080/"
        },
        "id": "w1w0yeLH18C2",
        "outputId": "6dcea624-5265-4b22-cd1e-05c21cf88c50"
      },
      "execution_count": null,
      "outputs": [
        {
          "output_type": "stream",
          "name": "stderr",
          "text": [
            "/usr/local/lib/python3.10/dist-packages/sklearn/neighbors/_classification.py:215: DataConversionWarning: A column-vector y was passed when a 1d array was expected. Please change the shape of y to (n_samples,), for example using ravel().\n",
            "  return self._fit(X, y)\n"
          ]
        }
      ]
    },
    {
      "cell_type": "code",
      "source": [
        "print(\"Modelo KNN para Xt1 + yt:\\n\")\n",
        "print(classification_report(target_test, y_pred1t))"
      ],
      "metadata": {
        "colab": {
          "base_uri": "https://localhost:8080/"
        },
        "id": "KOT-Np8R1-OL",
        "outputId": "e187404f-7aed-4892-87f1-de588e1994c1"
      },
      "execution_count": null,
      "outputs": [
        {
          "output_type": "stream",
          "name": "stdout",
          "text": [
            "Modelo KNN para Xt1 + yt:\n",
            "\n",
            "              precision    recall  f1-score   support\n",
            "\n",
            "           0       1.00      0.40      0.57         5\n",
            "           1       0.38      0.30      0.33        10\n",
            "           2       0.70      0.86      0.78        22\n",
            "\n",
            "    accuracy                           0.65        37\n",
            "   macro avg       0.69      0.52      0.56        37\n",
            "weighted avg       0.65      0.65      0.63        37\n",
            "\n"
          ]
        }
      ]
    },
    {
      "cell_type": "markdown",
      "source": [
        "## Caso Xt2 + yt : clasificación ternaria descriptor Morgan fingerprints"
      ],
      "metadata": {
        "id": "UEYshrPdYm70"
      }
    },
    {
      "cell_type": "code",
      "source": [
        "data_train, data_test, target_train, target_test = train_test_split(Xt2, yt, random_state=42)"
      ],
      "metadata": {
        "id": "wU57sWw9YnBy"
      },
      "execution_count": null,
      "outputs": []
    },
    {
      "cell_type": "markdown",
      "source": [
        "#### SVM"
      ],
      "metadata": {
        "id": "HxPvf1q52XKD"
      }
    },
    {
      "cell_type": "code",
      "source": [
        "svm2t = SVC(kernel='linear', C=1.0)\n",
        "svm2t.fit(data_train,target_train)\n",
        "y_pred2t = svm2t.predict(data_test)"
      ],
      "metadata": {
        "colab": {
          "base_uri": "https://localhost:8080/"
        },
        "id": "Pkol4g0v2hOz",
        "outputId": "bbb24299-074f-4c55-e723-f779bef4a34e"
      },
      "execution_count": null,
      "outputs": [
        {
          "output_type": "stream",
          "name": "stderr",
          "text": [
            "/usr/local/lib/python3.10/dist-packages/sklearn/utils/validation.py:1143: DataConversionWarning: A column-vector y was passed when a 1d array was expected. Please change the shape of y to (n_samples, ), for example using ravel().\n",
            "  y = column_or_1d(y, warn=True)\n"
          ]
        }
      ]
    },
    {
      "cell_type": "code",
      "source": [
        "print(\"Modelo SVM para Xt2 + yt:\\n\")\n",
        "print(classification_report(target_test, y_pred1t))"
      ],
      "metadata": {
        "colab": {
          "base_uri": "https://localhost:8080/"
        },
        "id": "jrywPvad2lEt",
        "outputId": "930a1943-19fe-4699-a1dd-c0189fa106ad"
      },
      "execution_count": null,
      "outputs": [
        {
          "output_type": "stream",
          "name": "stdout",
          "text": [
            "Modelo SVM para Xt2 + yt:\n",
            "\n",
            "              precision    recall  f1-score   support\n",
            "\n",
            "           0       1.00      0.40      0.57         5\n",
            "           1       0.38      0.30      0.33        10\n",
            "           2       0.70      0.86      0.78        22\n",
            "\n",
            "    accuracy                           0.65        37\n",
            "   macro avg       0.69      0.52      0.56        37\n",
            "weighted avg       0.65      0.65      0.63        37\n",
            "\n"
          ]
        }
      ]
    },
    {
      "cell_type": "markdown",
      "source": [
        "#### KNN"
      ],
      "metadata": {
        "id": "RXG-qbtH2YjA"
      }
    },
    {
      "cell_type": "code",
      "source": [
        "knn2t = KNeighborsClassifier(n_neighbors=3)\n",
        "knn2t.fit(data_train,target_train)\n",
        "y_pred2t = knn2t.predict(data_test)"
      ],
      "metadata": {
        "colab": {
          "base_uri": "https://localhost:8080/"
        },
        "id": "K3kftKuI2Zsd",
        "outputId": "44ec973b-031c-4144-b461-e6edeaacc871"
      },
      "execution_count": null,
      "outputs": [
        {
          "output_type": "stream",
          "name": "stderr",
          "text": [
            "/usr/local/lib/python3.10/dist-packages/sklearn/neighbors/_classification.py:215: DataConversionWarning: A column-vector y was passed when a 1d array was expected. Please change the shape of y to (n_samples,), for example using ravel().\n",
            "  return self._fit(X, y)\n"
          ]
        }
      ]
    },
    {
      "cell_type": "code",
      "source": [
        "print(\"Modelo KNN para Xt2 + yt:\\n\")\n",
        "print(classification_report(target_test, y_pred2t))"
      ],
      "metadata": {
        "colab": {
          "base_uri": "https://localhost:8080/"
        },
        "id": "-4HDwmgE20pZ",
        "outputId": "f6d3f97c-bd91-4ed3-f215-afa7a9df8cec"
      },
      "execution_count": null,
      "outputs": [
        {
          "output_type": "stream",
          "name": "stdout",
          "text": [
            "Modelo KNN para Xt2 + yt:\n",
            "\n",
            "              precision    recall  f1-score   support\n",
            "\n",
            "           0       1.00      0.80      0.89         5\n",
            "           1       0.91      1.00      0.95        10\n",
            "           2       1.00      1.00      1.00        22\n",
            "\n",
            "    accuracy                           0.97        37\n",
            "   macro avg       0.97      0.93      0.95        37\n",
            "weighted avg       0.98      0.97      0.97        37\n",
            "\n"
          ]
        }
      ]
    },
    {
      "cell_type": "markdown",
      "source": [
        "## Caso Xt3 + yt : clasificación ternaria descriptor Mordred"
      ],
      "metadata": {
        "id": "9TOop2dSYnHH"
      }
    },
    {
      "cell_type": "code",
      "source": [
        "data_train, data_test, target_train, target_test = train_test_split(Xt3, yt, random_state=42)"
      ],
      "metadata": {
        "id": "KqTSQu3uYnMi"
      },
      "execution_count": null,
      "outputs": []
    },
    {
      "cell_type": "markdown",
      "source": [
        "#### SVM"
      ],
      "metadata": {
        "id": "6jY684pU2aWf"
      }
    },
    {
      "cell_type": "code",
      "source": [
        "svm3t = SVC(kernel='linear', C=1.0)\n",
        "svm3t.fit(data_train,target_train)\n",
        "y_pred3t = svm3t.predict(data_test)"
      ],
      "metadata": {
        "colab": {
          "base_uri": "https://localhost:8080/"
        },
        "id": "iQ3YM2Qt2n_J",
        "outputId": "76b3feac-0492-47d9-9241-d557404e8609"
      },
      "execution_count": null,
      "outputs": [
        {
          "output_type": "stream",
          "name": "stderr",
          "text": [
            "/usr/local/lib/python3.10/dist-packages/sklearn/utils/validation.py:1143: DataConversionWarning: A column-vector y was passed when a 1d array was expected. Please change the shape of y to (n_samples, ), for example using ravel().\n",
            "  y = column_or_1d(y, warn=True)\n"
          ]
        }
      ]
    },
    {
      "cell_type": "code",
      "source": [
        "print(\"Modelo SVM para Xt3 + yt:\\n\")\n",
        "print(classification_report(target_test, y_pred3t))"
      ],
      "metadata": {
        "colab": {
          "base_uri": "https://localhost:8080/"
        },
        "id": "vZ1F1UU42sC8",
        "outputId": "ece0a466-02fe-4df7-ed4b-11dbe1d974a3"
      },
      "execution_count": null,
      "outputs": [
        {
          "output_type": "stream",
          "name": "stdout",
          "text": [
            "Modelo SVM para Xt3 + yt:\n",
            "\n",
            "              precision    recall  f1-score   support\n",
            "\n",
            "           0       0.50      0.80      0.62         5\n",
            "           1       0.83      0.50      0.62        10\n",
            "           2       0.96      1.00      0.98        22\n",
            "\n",
            "    accuracy                           0.84        37\n",
            "   macro avg       0.76      0.77      0.74        37\n",
            "weighted avg       0.86      0.84      0.83        37\n",
            "\n"
          ]
        }
      ]
    },
    {
      "cell_type": "markdown",
      "source": [
        "#### KNN"
      ],
      "metadata": {
        "id": "kkWc2C632cCa"
      }
    },
    {
      "cell_type": "code",
      "source": [
        "knn3t = KNeighborsClassifier(n_neighbors=3)\n",
        "knn3t.fit(data_train,target_train)\n",
        "y_pred3t = knn3t.predict(data_test)"
      ],
      "metadata": {
        "colab": {
          "base_uri": "https://localhost:8080/"
        },
        "id": "xFZXFfsW2dYO",
        "outputId": "ccc11465-2334-41eb-c21f-a2d31b57a061"
      },
      "execution_count": null,
      "outputs": [
        {
          "output_type": "stream",
          "name": "stderr",
          "text": [
            "/usr/local/lib/python3.10/dist-packages/sklearn/neighbors/_classification.py:215: DataConversionWarning: A column-vector y was passed when a 1d array was expected. Please change the shape of y to (n_samples,), for example using ravel().\n",
            "  return self._fit(X, y)\n"
          ]
        }
      ]
    },
    {
      "cell_type": "code",
      "source": [
        "print(\"Modelo KNN para Xt3 + yt:\\n\")\n",
        "print(classification_report(target_test, y_pred3t))"
      ],
      "metadata": {
        "colab": {
          "base_uri": "https://localhost:8080/"
        },
        "id": "fhdXojY8281U",
        "outputId": "a0a1c1ba-a733-4b91-e5cb-f82fbb9dc11d"
      },
      "execution_count": null,
      "outputs": [
        {
          "output_type": "stream",
          "name": "stdout",
          "text": [
            "Modelo KNN para Xt3 + yt:\n",
            "\n",
            "              precision    recall  f1-score   support\n",
            "\n",
            "           0       0.60      0.60      0.60         5\n",
            "           1       0.40      0.20      0.27        10\n",
            "           2       0.74      0.91      0.82        22\n",
            "\n",
            "    accuracy                           0.68        37\n",
            "   macro avg       0.58      0.57      0.56        37\n",
            "weighted avg       0.63      0.68      0.64        37\n",
            "\n"
          ]
        }
      ]
    },
    {
      "cell_type": "markdown",
      "source": [
        "## Evaluación del desempeño de los modelos"
      ],
      "metadata": {
        "id": "Gll4L5TsHxoP"
      }
    },
    {
      "cell_type": "code",
      "source": [
        "acctab = pd.DataFrame()\n",
        "\n",
        "acctab['Xb1'] = None\n",
        "acctab['Xb2'] = None\n",
        "acctab['Xb3'] = None\n",
        "acctab['Xt1'] = None\n",
        "acctab['Xt2'] = None\n",
        "acctab['Xt3'] = None\n",
        "\n",
        "# añadimos filas por su nombre de fila\n",
        "acctab.loc['SVM'] = [0.96, 1.00, 0.93, 0.92, 0.65, 0.84]\n",
        "acctab.loc['KNN'] = [0.83, 1.00, 0.85, 0.65, 0.97, 0.68]\n",
        "\n",
        "acctab # accuracy tab"
      ],
      "metadata": {
        "colab": {
          "base_uri": "https://localhost:8080/",
          "height": 112
        },
        "id": "cVPpsSx7Hwwf",
        "outputId": "218b6c8b-dca3-4fde-970f-e54854522c54"
      },
      "execution_count": null,
      "outputs": [
        {
          "output_type": "execute_result",
          "data": {
            "text/plain": [
              "      Xb1  Xb2   Xb3   Xt1   Xt2   Xt3\n",
              "SVM  0.96  1.0  0.93  0.92  0.65  0.84\n",
              "KNN  0.83  1.0  0.85  0.65  0.97  0.68"
            ],
            "text/html": [
              "\n",
              "  <div id=\"df-42b61b49-aa93-4be9-86d5-cfba7bade559\">\n",
              "    <div class=\"colab-df-container\">\n",
              "      <div>\n",
              "<style scoped>\n",
              "    .dataframe tbody tr th:only-of-type {\n",
              "        vertical-align: middle;\n",
              "    }\n",
              "\n",
              "    .dataframe tbody tr th {\n",
              "        vertical-align: top;\n",
              "    }\n",
              "\n",
              "    .dataframe thead th {\n",
              "        text-align: right;\n",
              "    }\n",
              "</style>\n",
              "<table border=\"1\" class=\"dataframe\">\n",
              "  <thead>\n",
              "    <tr style=\"text-align: right;\">\n",
              "      <th></th>\n",
              "      <th>Xb1</th>\n",
              "      <th>Xb2</th>\n",
              "      <th>Xb3</th>\n",
              "      <th>Xt1</th>\n",
              "      <th>Xt2</th>\n",
              "      <th>Xt3</th>\n",
              "    </tr>\n",
              "  </thead>\n",
              "  <tbody>\n",
              "    <tr>\n",
              "      <th>SVM</th>\n",
              "      <td>0.96</td>\n",
              "      <td>1.0</td>\n",
              "      <td>0.93</td>\n",
              "      <td>0.92</td>\n",
              "      <td>0.65</td>\n",
              "      <td>0.84</td>\n",
              "    </tr>\n",
              "    <tr>\n",
              "      <th>KNN</th>\n",
              "      <td>0.83</td>\n",
              "      <td>1.0</td>\n",
              "      <td>0.85</td>\n",
              "      <td>0.65</td>\n",
              "      <td>0.97</td>\n",
              "      <td>0.68</td>\n",
              "    </tr>\n",
              "  </tbody>\n",
              "</table>\n",
              "</div>\n",
              "      <button class=\"colab-df-convert\" onclick=\"convertToInteractive('df-42b61b49-aa93-4be9-86d5-cfba7bade559')\"\n",
              "              title=\"Convert this dataframe to an interactive table.\"\n",
              "              style=\"display:none;\">\n",
              "        \n",
              "  <svg xmlns=\"http://www.w3.org/2000/svg\" height=\"24px\"viewBox=\"0 0 24 24\"\n",
              "       width=\"24px\">\n",
              "    <path d=\"M0 0h24v24H0V0z\" fill=\"none\"/>\n",
              "    <path d=\"M18.56 5.44l.94 2.06.94-2.06 2.06-.94-2.06-.94-.94-2.06-.94 2.06-2.06.94zm-11 1L8.5 8.5l.94-2.06 2.06-.94-2.06-.94L8.5 2.5l-.94 2.06-2.06.94zm10 10l.94 2.06.94-2.06 2.06-.94-2.06-.94-.94-2.06-.94 2.06-2.06.94z\"/><path d=\"M17.41 7.96l-1.37-1.37c-.4-.4-.92-.59-1.43-.59-.52 0-1.04.2-1.43.59L10.3 9.45l-7.72 7.72c-.78.78-.78 2.05 0 2.83L4 21.41c.39.39.9.59 1.41.59.51 0 1.02-.2 1.41-.59l7.78-7.78 2.81-2.81c.8-.78.8-2.07 0-2.86zM5.41 20L4 18.59l7.72-7.72 1.47 1.35L5.41 20z\"/>\n",
              "  </svg>\n",
              "      </button>\n",
              "      \n",
              "  <style>\n",
              "    .colab-df-container {\n",
              "      display:flex;\n",
              "      flex-wrap:wrap;\n",
              "      gap: 12px;\n",
              "    }\n",
              "\n",
              "    .colab-df-convert {\n",
              "      background-color: #E8F0FE;\n",
              "      border: none;\n",
              "      border-radius: 50%;\n",
              "      cursor: pointer;\n",
              "      display: none;\n",
              "      fill: #1967D2;\n",
              "      height: 32px;\n",
              "      padding: 0 0 0 0;\n",
              "      width: 32px;\n",
              "    }\n",
              "\n",
              "    .colab-df-convert:hover {\n",
              "      background-color: #E2EBFA;\n",
              "      box-shadow: 0px 1px 2px rgba(60, 64, 67, 0.3), 0px 1px 3px 1px rgba(60, 64, 67, 0.15);\n",
              "      fill: #174EA6;\n",
              "    }\n",
              "\n",
              "    [theme=dark] .colab-df-convert {\n",
              "      background-color: #3B4455;\n",
              "      fill: #D2E3FC;\n",
              "    }\n",
              "\n",
              "    [theme=dark] .colab-df-convert:hover {\n",
              "      background-color: #434B5C;\n",
              "      box-shadow: 0px 1px 3px 1px rgba(0, 0, 0, 0.15);\n",
              "      filter: drop-shadow(0px 1px 2px rgba(0, 0, 0, 0.3));\n",
              "      fill: #FFFFFF;\n",
              "    }\n",
              "  </style>\n",
              "\n",
              "      <script>\n",
              "        const buttonEl =\n",
              "          document.querySelector('#df-42b61b49-aa93-4be9-86d5-cfba7bade559 button.colab-df-convert');\n",
              "        buttonEl.style.display =\n",
              "          google.colab.kernel.accessAllowed ? 'block' : 'none';\n",
              "\n",
              "        async function convertToInteractive(key) {\n",
              "          const element = document.querySelector('#df-42b61b49-aa93-4be9-86d5-cfba7bade559');\n",
              "          const dataTable =\n",
              "            await google.colab.kernel.invokeFunction('convertToInteractive',\n",
              "                                                     [key], {});\n",
              "          if (!dataTable) return;\n",
              "\n",
              "          const docLinkHtml = 'Like what you see? Visit the ' +\n",
              "            '<a target=\"_blank\" href=https://colab.research.google.com/notebooks/data_table.ipynb>data table notebook</a>'\n",
              "            + ' to learn more about interactive tables.';\n",
              "          element.innerHTML = '';\n",
              "          dataTable['output_type'] = 'display_data';\n",
              "          await google.colab.output.renderOutput(dataTable, element);\n",
              "          const docLink = document.createElement('div');\n",
              "          docLink.innerHTML = docLinkHtml;\n",
              "          element.appendChild(docLink);\n",
              "        }\n",
              "      </script>\n",
              "    </div>\n",
              "  </div>\n",
              "  "
            ]
          },
          "metadata": {},
          "execution_count": 91
        }
      ]
    },
    {
      "cell_type": "markdown",
      "source": [
        "# Conclusiones\n",
        "\n",
        "*   Los modelos fueron entrenados con data no balanceada, sobre todo para el caso de clasificación con tres categorias. La utilización de data imbalanceada suele introducir sesgo al modelo a fovor de la categoría que predomina [2], por tal motivo, los resultados pueden no ser confiables.\n",
        "*   En la clasificación hydroxamate y catecholate, **SVM** obtiene el mayor accuracy de los dos modelos para los tres clasificadores. Donde el clasificador con mejor performance es el **Morgan fingerprints**\n",
        "*   En la clasificación hydroxamate, catecholate y carboxylate, **SVM** obtiene el mayor accuracy para los clasificadores **RDKit** y **Mordred**. Y **KNN** obtiene el mayor accuracy para el clasificador **Morgan fingerprints**\n",
        "*   En los modelos de SVM para la clasificación hydroxamate y catecholate, la precision siempre es mayor para la categoría 'catecholate', por lo que es importante recordar que la data imbalanceada se encuentra a favor de esta categoría, por lo tanto, altera este score [3].\n",
        "*   En los mejores modelos para la clasificación hydroxamate, catecholate y carboxylate ocurre algo similar a lo anterior, y la categoría con mayor precision es 'carboxylate', la cual también presenta un balance a favor [3].\n",
        "\n",
        "\n",
        "[1] Python Program to Check If a String Is a Number (Float). (s.f.). Programiz: Learn to Code for Free. https://www.programiz.com/python-programming/examples/check-string-number\n",
        "\n",
        "[2] Balanced and Imbalanced Datasets in Machine Learning [Introduction]. (s.f.). Encord | Data-Centric AI Development Software for Computer Vision. https://encord.com/blog/an-introduction-to-balanced-and-imbalanced-datasets-in-machine-learning/\n",
        "\n",
        "[3] Precision, Recall, F1, Accuracy en clasificación - IArtificial.net. (s.f.). IArtificial.net. https://www.iartificial.net/precision-recall-f1-accuracy-en-clasificacion/"
      ],
      "metadata": {
        "id": "dwpyxsxb7_1D"
      }
    }
  ]
}