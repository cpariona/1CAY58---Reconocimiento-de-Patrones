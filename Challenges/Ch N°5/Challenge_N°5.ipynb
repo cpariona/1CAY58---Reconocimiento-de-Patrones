{
  "nbformat": 4,
  "nbformat_minor": 0,
  "metadata": {
    "colab": {
      "provenance": []
    },
    "kernelspec": {
      "name": "python3",
      "display_name": "Python 3"
    },
    "language_info": {
      "name": "python"
    }
  },
  "cells": [
    {
      "cell_type": "markdown",
      "source": [
        "# Importar librerías"
      ],
      "metadata": {
        "id": "VLZlBSQY3VdE"
      }
    },
    {
      "cell_type": "code",
      "execution_count": 4,
      "metadata": {
        "id": "XfLFX2K_YOHk"
      },
      "outputs": [],
      "source": [
        "import pandas as pd\n",
        "import numpy as np\n",
        "import seaborn as sns\n",
        "import matplotlib.pyplot as plt\n",
        "from numpy import random, where\n",
        "\n",
        "import sklearn.cluster as cluster\n",
        "\n",
        "from sklearn.preprocessing import StandardScaler\n",
        "from sklearn.datasets import make_blobs\n",
        "from sklearn.metrics.pairwise import pairwise_distances\n",
        "from sklearn.datasets import fetch_openml\n",
        "from sklearn.decomposition import PCA\n",
        "from sklearn.metrics import adjusted_rand_score, adjusted_mutual_info_score\n",
        "from sklearn.manifold import TSNE\n",
        "\n",
        "# Ignorar advertencias\n",
        "import warnings\n",
        "warnings.filterwarnings(\"ignore\")"
      ]
    },
    {
      "cell_type": "code",
      "source": [
        "!pip install hdbscan"
      ],
      "metadata": {
        "colab": {
          "base_uri": "https://localhost:8080/"
        },
        "id": "YXlD8Lb7aXuX",
        "outputId": "3cecf4be-85db-4d3f-afb2-f642a8d630c7"
      },
      "execution_count": 5,
      "outputs": [
        {
          "output_type": "stream",
          "name": "stdout",
          "text": [
            "Looking in indexes: https://pypi.org/simple, https://us-python.pkg.dev/colab-wheels/public/simple/\n",
            "Collecting hdbscan\n",
            "  Using cached hdbscan-0.8.29.tar.gz (5.2 MB)\n",
            "  Installing build dependencies ... \u001b[?25l\u001b[?25hdone\n",
            "  Getting requirements to build wheel ... \u001b[?25l\u001b[?25hdone\n",
            "  Preparing metadata (pyproject.toml) ... \u001b[?25l\u001b[?25hdone\n",
            "Requirement already satisfied: cython>=0.27 in /usr/local/lib/python3.10/dist-packages (from hdbscan) (0.29.34)\n",
            "Requirement already satisfied: numpy>=1.20 in /usr/local/lib/python3.10/dist-packages (from hdbscan) (1.22.4)\n",
            "Requirement already satisfied: scipy>=1.0 in /usr/local/lib/python3.10/dist-packages (from hdbscan) (1.10.1)\n",
            "Requirement already satisfied: scikit-learn>=0.20 in /usr/local/lib/python3.10/dist-packages (from hdbscan) (1.2.2)\n",
            "Requirement already satisfied: joblib>=1.0 in /usr/local/lib/python3.10/dist-packages (from hdbscan) (1.2.0)\n",
            "Requirement already satisfied: threadpoolctl>=2.0.0 in /usr/local/lib/python3.10/dist-packages (from scikit-learn>=0.20->hdbscan) (3.1.0)\n",
            "Building wheels for collected packages: hdbscan\n",
            "  Building wheel for hdbscan (pyproject.toml) ... \u001b[?25l\u001b[?25hdone\n",
            "  Created wheel for hdbscan: filename=hdbscan-0.8.29-cp310-cp310-linux_x86_64.whl size=3541480 sha256=8f483f9c2aeb9570c83a45de7f927318369f42e939c920699aefef5f53d7d73a\n",
            "  Stored in directory: /root/.cache/pip/wheels/dc/52/e3/6c6b60b126b4d5c4370cb5ac071b82950f91649d62d72f7f56\n",
            "Successfully built hdbscan\n",
            "Installing collected packages: hdbscan\n",
            "Successfully installed hdbscan-0.8.29\n"
          ]
        }
      ]
    },
    {
      "cell_type": "code",
      "source": [
        "import hdbscan"
      ],
      "metadata": {
        "id": "rytyVNMFXqKS"
      },
      "execution_count": 6,
      "outputs": []
    },
    {
      "cell_type": "markdown",
      "source": [
        "# Importar y mostrar data"
      ],
      "metadata": {
        "id": "i4fRr90R3ZMJ"
      }
    },
    {
      "cell_type": "code",
      "source": [
        "df = pd.read_csv(\"leukemia_dataset.csv\")"
      ],
      "metadata": {
        "id": "wORIKZnxhRJn"
      },
      "execution_count": 7,
      "outputs": []
    },
    {
      "cell_type": "code",
      "source": [
        "df.head()"
      ],
      "metadata": {
        "colab": {
          "base_uri": "https://localhost:8080/",
          "height": 334
        },
        "id": "zr7SZ70AkhwN",
        "outputId": "287def92-410f-4788-91cd-d4413822367c"
      },
      "execution_count": 8,
      "outputs": [
        {
          "output_type": "execute_result",
          "data": {
            "text/plain": [
              "   samples              type  1007_s_at   1053_at     117_at    121_at  \\\n",
              "0        1  Bone_Marrow_CD34   7.745245  7.811210   6.477916  8.841506   \n",
              "1       12  Bone_Marrow_CD34   8.087252  7.240673   8.584648  8.983571   \n",
              "2       13  Bone_Marrow_CD34   7.792056  7.549368  11.053504  8.909703   \n",
              "3       14  Bone_Marrow_CD34   7.767265  7.094460  11.816433  8.994654   \n",
              "4       15  Bone_Marrow_CD34   8.010117  7.405281   6.656049  9.050682   \n",
              "\n",
              "   1255_g_at   1294_at   1316_at   1320_at  ...  AFFX-r2-Hs28SrRNA-5_at  \\\n",
              "0   4.546941  7.957714  5.344999  4.673364  ...                5.058849   \n",
              "1   4.548934  8.011652  5.579647  4.828184  ...                4.436153   \n",
              "2   4.549328  8.237099  5.406489  4.615572  ...                4.392061   \n",
              "3   4.697018  8.283412  5.582195  4.903684  ...                4.633334   \n",
              "4   4.514986  8.377046  5.493713  4.860754  ...                5.305192   \n",
              "\n",
              "   AFFX-r2-Hs28SrRNA-M_at  AFFX-r2-P1-cre-3_at  AFFX-r2-P1-cre-5_at  \\\n",
              "0                6.810004            12.800060            12.718612   \n",
              "1                6.751471            12.472706            12.333593   \n",
              "2                6.086295            12.637384            12.499038   \n",
              "3                6.375991            12.903630            12.871454   \n",
              "4                6.700453            12.949352            12.782515   \n",
              "\n",
              "   AFFX-ThrX-3_at  AFFX-ThrX-5_at  AFFX-ThrX-M_at  AFFX-TrpnX-3_at  \\\n",
              "0        5.391512        4.666166        3.974759         3.656693   \n",
              "1        5.379738        4.656786        4.188348         3.792535   \n",
              "2        5.316604        4.600566        3.845561         3.635715   \n",
              "3        5.179951        4.641952        3.991634         3.704587   \n",
              "4        5.341689        4.560315        3.887020         3.629853   \n",
              "\n",
              "   AFFX-TrpnX-5_at  AFFX-TrpnX-M_at  \n",
              "0         4.160622         4.139249  \n",
              "1         4.204414         4.122700  \n",
              "2         4.174199         4.067152  \n",
              "3         4.149938         3.910150  \n",
              "4         4.127513         4.004316  \n",
              "\n",
              "[5 rows x 22285 columns]"
            ],
            "text/html": [
              "\n",
              "  <div id=\"df-86633734-b27b-4659-b873-b1d8c6ad279f\">\n",
              "    <div class=\"colab-df-container\">\n",
              "      <div>\n",
              "<style scoped>\n",
              "    .dataframe tbody tr th:only-of-type {\n",
              "        vertical-align: middle;\n",
              "    }\n",
              "\n",
              "    .dataframe tbody tr th {\n",
              "        vertical-align: top;\n",
              "    }\n",
              "\n",
              "    .dataframe thead th {\n",
              "        text-align: right;\n",
              "    }\n",
              "</style>\n",
              "<table border=\"1\" class=\"dataframe\">\n",
              "  <thead>\n",
              "    <tr style=\"text-align: right;\">\n",
              "      <th></th>\n",
              "      <th>samples</th>\n",
              "      <th>type</th>\n",
              "      <th>1007_s_at</th>\n",
              "      <th>1053_at</th>\n",
              "      <th>117_at</th>\n",
              "      <th>121_at</th>\n",
              "      <th>1255_g_at</th>\n",
              "      <th>1294_at</th>\n",
              "      <th>1316_at</th>\n",
              "      <th>1320_at</th>\n",
              "      <th>...</th>\n",
              "      <th>AFFX-r2-Hs28SrRNA-5_at</th>\n",
              "      <th>AFFX-r2-Hs28SrRNA-M_at</th>\n",
              "      <th>AFFX-r2-P1-cre-3_at</th>\n",
              "      <th>AFFX-r2-P1-cre-5_at</th>\n",
              "      <th>AFFX-ThrX-3_at</th>\n",
              "      <th>AFFX-ThrX-5_at</th>\n",
              "      <th>AFFX-ThrX-M_at</th>\n",
              "      <th>AFFX-TrpnX-3_at</th>\n",
              "      <th>AFFX-TrpnX-5_at</th>\n",
              "      <th>AFFX-TrpnX-M_at</th>\n",
              "    </tr>\n",
              "  </thead>\n",
              "  <tbody>\n",
              "    <tr>\n",
              "      <th>0</th>\n",
              "      <td>1</td>\n",
              "      <td>Bone_Marrow_CD34</td>\n",
              "      <td>7.745245</td>\n",
              "      <td>7.811210</td>\n",
              "      <td>6.477916</td>\n",
              "      <td>8.841506</td>\n",
              "      <td>4.546941</td>\n",
              "      <td>7.957714</td>\n",
              "      <td>5.344999</td>\n",
              "      <td>4.673364</td>\n",
              "      <td>...</td>\n",
              "      <td>5.058849</td>\n",
              "      <td>6.810004</td>\n",
              "      <td>12.800060</td>\n",
              "      <td>12.718612</td>\n",
              "      <td>5.391512</td>\n",
              "      <td>4.666166</td>\n",
              "      <td>3.974759</td>\n",
              "      <td>3.656693</td>\n",
              "      <td>4.160622</td>\n",
              "      <td>4.139249</td>\n",
              "    </tr>\n",
              "    <tr>\n",
              "      <th>1</th>\n",
              "      <td>12</td>\n",
              "      <td>Bone_Marrow_CD34</td>\n",
              "      <td>8.087252</td>\n",
              "      <td>7.240673</td>\n",
              "      <td>8.584648</td>\n",
              "      <td>8.983571</td>\n",
              "      <td>4.548934</td>\n",
              "      <td>8.011652</td>\n",
              "      <td>5.579647</td>\n",
              "      <td>4.828184</td>\n",
              "      <td>...</td>\n",
              "      <td>4.436153</td>\n",
              "      <td>6.751471</td>\n",
              "      <td>12.472706</td>\n",
              "      <td>12.333593</td>\n",
              "      <td>5.379738</td>\n",
              "      <td>4.656786</td>\n",
              "      <td>4.188348</td>\n",
              "      <td>3.792535</td>\n",
              "      <td>4.204414</td>\n",
              "      <td>4.122700</td>\n",
              "    </tr>\n",
              "    <tr>\n",
              "      <th>2</th>\n",
              "      <td>13</td>\n",
              "      <td>Bone_Marrow_CD34</td>\n",
              "      <td>7.792056</td>\n",
              "      <td>7.549368</td>\n",
              "      <td>11.053504</td>\n",
              "      <td>8.909703</td>\n",
              "      <td>4.549328</td>\n",
              "      <td>8.237099</td>\n",
              "      <td>5.406489</td>\n",
              "      <td>4.615572</td>\n",
              "      <td>...</td>\n",
              "      <td>4.392061</td>\n",
              "      <td>6.086295</td>\n",
              "      <td>12.637384</td>\n",
              "      <td>12.499038</td>\n",
              "      <td>5.316604</td>\n",
              "      <td>4.600566</td>\n",
              "      <td>3.845561</td>\n",
              "      <td>3.635715</td>\n",
              "      <td>4.174199</td>\n",
              "      <td>4.067152</td>\n",
              "    </tr>\n",
              "    <tr>\n",
              "      <th>3</th>\n",
              "      <td>14</td>\n",
              "      <td>Bone_Marrow_CD34</td>\n",
              "      <td>7.767265</td>\n",
              "      <td>7.094460</td>\n",
              "      <td>11.816433</td>\n",
              "      <td>8.994654</td>\n",
              "      <td>4.697018</td>\n",
              "      <td>8.283412</td>\n",
              "      <td>5.582195</td>\n",
              "      <td>4.903684</td>\n",
              "      <td>...</td>\n",
              "      <td>4.633334</td>\n",
              "      <td>6.375991</td>\n",
              "      <td>12.903630</td>\n",
              "      <td>12.871454</td>\n",
              "      <td>5.179951</td>\n",
              "      <td>4.641952</td>\n",
              "      <td>3.991634</td>\n",
              "      <td>3.704587</td>\n",
              "      <td>4.149938</td>\n",
              "      <td>3.910150</td>\n",
              "    </tr>\n",
              "    <tr>\n",
              "      <th>4</th>\n",
              "      <td>15</td>\n",
              "      <td>Bone_Marrow_CD34</td>\n",
              "      <td>8.010117</td>\n",
              "      <td>7.405281</td>\n",
              "      <td>6.656049</td>\n",
              "      <td>9.050682</td>\n",
              "      <td>4.514986</td>\n",
              "      <td>8.377046</td>\n",
              "      <td>5.493713</td>\n",
              "      <td>4.860754</td>\n",
              "      <td>...</td>\n",
              "      <td>5.305192</td>\n",
              "      <td>6.700453</td>\n",
              "      <td>12.949352</td>\n",
              "      <td>12.782515</td>\n",
              "      <td>5.341689</td>\n",
              "      <td>4.560315</td>\n",
              "      <td>3.887020</td>\n",
              "      <td>3.629853</td>\n",
              "      <td>4.127513</td>\n",
              "      <td>4.004316</td>\n",
              "    </tr>\n",
              "  </tbody>\n",
              "</table>\n",
              "<p>5 rows × 22285 columns</p>\n",
              "</div>\n",
              "      <button class=\"colab-df-convert\" onclick=\"convertToInteractive('df-86633734-b27b-4659-b873-b1d8c6ad279f')\"\n",
              "              title=\"Convert this dataframe to an interactive table.\"\n",
              "              style=\"display:none;\">\n",
              "        \n",
              "  <svg xmlns=\"http://www.w3.org/2000/svg\" height=\"24px\"viewBox=\"0 0 24 24\"\n",
              "       width=\"24px\">\n",
              "    <path d=\"M0 0h24v24H0V0z\" fill=\"none\"/>\n",
              "    <path d=\"M18.56 5.44l.94 2.06.94-2.06 2.06-.94-2.06-.94-.94-2.06-.94 2.06-2.06.94zm-11 1L8.5 8.5l.94-2.06 2.06-.94-2.06-.94L8.5 2.5l-.94 2.06-2.06.94zm10 10l.94 2.06.94-2.06 2.06-.94-2.06-.94-.94-2.06-.94 2.06-2.06.94z\"/><path d=\"M17.41 7.96l-1.37-1.37c-.4-.4-.92-.59-1.43-.59-.52 0-1.04.2-1.43.59L10.3 9.45l-7.72 7.72c-.78.78-.78 2.05 0 2.83L4 21.41c.39.39.9.59 1.41.59.51 0 1.02-.2 1.41-.59l7.78-7.78 2.81-2.81c.8-.78.8-2.07 0-2.86zM5.41 20L4 18.59l7.72-7.72 1.47 1.35L5.41 20z\"/>\n",
              "  </svg>\n",
              "      </button>\n",
              "      \n",
              "  <style>\n",
              "    .colab-df-container {\n",
              "      display:flex;\n",
              "      flex-wrap:wrap;\n",
              "      gap: 12px;\n",
              "    }\n",
              "\n",
              "    .colab-df-convert {\n",
              "      background-color: #E8F0FE;\n",
              "      border: none;\n",
              "      border-radius: 50%;\n",
              "      cursor: pointer;\n",
              "      display: none;\n",
              "      fill: #1967D2;\n",
              "      height: 32px;\n",
              "      padding: 0 0 0 0;\n",
              "      width: 32px;\n",
              "    }\n",
              "\n",
              "    .colab-df-convert:hover {\n",
              "      background-color: #E2EBFA;\n",
              "      box-shadow: 0px 1px 2px rgba(60, 64, 67, 0.3), 0px 1px 3px 1px rgba(60, 64, 67, 0.15);\n",
              "      fill: #174EA6;\n",
              "    }\n",
              "\n",
              "    [theme=dark] .colab-df-convert {\n",
              "      background-color: #3B4455;\n",
              "      fill: #D2E3FC;\n",
              "    }\n",
              "\n",
              "    [theme=dark] .colab-df-convert:hover {\n",
              "      background-color: #434B5C;\n",
              "      box-shadow: 0px 1px 3px 1px rgba(0, 0, 0, 0.15);\n",
              "      filter: drop-shadow(0px 1px 2px rgba(0, 0, 0, 0.3));\n",
              "      fill: #FFFFFF;\n",
              "    }\n",
              "  </style>\n",
              "\n",
              "      <script>\n",
              "        const buttonEl =\n",
              "          document.querySelector('#df-86633734-b27b-4659-b873-b1d8c6ad279f button.colab-df-convert');\n",
              "        buttonEl.style.display =\n",
              "          google.colab.kernel.accessAllowed ? 'block' : 'none';\n",
              "\n",
              "        async function convertToInteractive(key) {\n",
              "          const element = document.querySelector('#df-86633734-b27b-4659-b873-b1d8c6ad279f');\n",
              "          const dataTable =\n",
              "            await google.colab.kernel.invokeFunction('convertToInteractive',\n",
              "                                                     [key], {});\n",
              "          if (!dataTable) return;\n",
              "\n",
              "          const docLinkHtml = 'Like what you see? Visit the ' +\n",
              "            '<a target=\"_blank\" href=https://colab.research.google.com/notebooks/data_table.ipynb>data table notebook</a>'\n",
              "            + ' to learn more about interactive tables.';\n",
              "          element.innerHTML = '';\n",
              "          dataTable['output_type'] = 'display_data';\n",
              "          await google.colab.output.renderOutput(dataTable, element);\n",
              "          const docLink = document.createElement('div');\n",
              "          docLink.innerHTML = docLinkHtml;\n",
              "          element.appendChild(docLink);\n",
              "        }\n",
              "      </script>\n",
              "    </div>\n",
              "  </div>\n",
              "  "
            ]
          },
          "metadata": {},
          "execution_count": 8
        }
      ]
    },
    {
      "cell_type": "code",
      "source": [
        "# Número de filas y columnas en el dataset\n",
        "nRow, nCol = df.shape\n",
        "print(f'Hay {nRow} filas y {nCol} columnas en el dataset de leucemia')"
      ],
      "metadata": {
        "colab": {
          "base_uri": "https://localhost:8080/"
        },
        "id": "8NvmDYqvkoc8",
        "outputId": "33d3fec0-677d-4aa9-8719-5abdc2ec0373"
      },
      "execution_count": 9,
      "outputs": [
        {
          "output_type": "stream",
          "name": "stdout",
          "text": [
            "Hay 64 filas y 22285 columnas en el dataset de leucemia\n"
          ]
        }
      ]
    },
    {
      "cell_type": "code",
      "source": [
        "# Buscar valores nulos en el dataset\n",
        "df.isnull().sum()"
      ],
      "metadata": {
        "colab": {
          "base_uri": "https://localhost:8080/"
        },
        "id": "KJVt_VsnlBUS",
        "outputId": "004e243a-0761-4702-dd2e-7c3cdae7eea5"
      },
      "execution_count": 10,
      "outputs": [
        {
          "output_type": "execute_result",
          "data": {
            "text/plain": [
              "samples            0\n",
              "type               0\n",
              "1007_s_at          0\n",
              "1053_at            0\n",
              "117_at             0\n",
              "                  ..\n",
              "AFFX-ThrX-5_at     0\n",
              "AFFX-ThrX-M_at     0\n",
              "AFFX-TrpnX-3_at    0\n",
              "AFFX-TrpnX-5_at    0\n",
              "AFFX-TrpnX-M_at    0\n",
              "Length: 22285, dtype: int64"
            ]
          },
          "metadata": {},
          "execution_count": 10
        }
      ]
    },
    {
      "cell_type": "code",
      "source": [
        "# Revisar el total de valores nulos\n",
        "df.isnull().sum().sum()"
      ],
      "metadata": {
        "colab": {
          "base_uri": "https://localhost:8080/"
        },
        "id": "E47KCL8qTEbh",
        "outputId": "ad90618e-46a4-43b7-fc32-50e59ea58732"
      },
      "execution_count": 11,
      "outputs": [
        {
          "output_type": "execute_result",
          "data": {
            "text/plain": [
              "0"
            ]
          },
          "metadata": {},
          "execution_count": 11
        }
      ]
    },
    {
      "cell_type": "code",
      "source": [
        "# Identificar la distribución según el tipo de muestra.\n",
        "# Cada 'type' corresponde a un tipo de leucemia\n",
        "label_count = df['type'].value_counts()\n",
        "label_count"
      ],
      "metadata": {
        "colab": {
          "base_uri": "https://localhost:8080/"
        },
        "id": "fWcDyfeYlP1L",
        "outputId": "57c344ed-da0e-45db-9fff-d99d86a97ef8"
      },
      "execution_count": 12,
      "outputs": [
        {
          "output_type": "execute_result",
          "data": {
            "text/plain": [
              "AML                 26\n",
              "Bone_Marrow         10\n",
              "PB                  10\n",
              "PBSC_CD34           10\n",
              "Bone_Marrow_CD34     8\n",
              "Name: type, dtype: int64"
            ]
          },
          "metadata": {},
          "execution_count": 12
        }
      ]
    },
    {
      "cell_type": "code",
      "source": [
        "# Visualizar la distribución por tipo de muestra\n",
        "fig = plt.figure(figsize=(10, 5))\n",
        "df['type'].value_counts().plot(kind='bar')\n",
        "plt.xticks(rotation=0)\n",
        "plt.ylabel('Número de ocurrencias', fontsize=10, fontweight='bold')\n",
        "plt.xlabel('Tipo de muestra', fontsize=10, fontweight='bold')\n",
        "plt.title('Distribución de variable \"type\" en los datos', fontsize=10, fontweight='bold')"
      ],
      "metadata": {
        "colab": {
          "base_uri": "https://localhost:8080/",
          "height": 502
        },
        "id": "BclJDFCElf9i",
        "outputId": "63c279d9-3396-48bf-eeda-745f4d36a12b"
      },
      "execution_count": 13,
      "outputs": [
        {
          "output_type": "execute_result",
          "data": {
            "text/plain": [
              "Text(0.5, 1.0, 'Distribución de variable \"type\" en los datos')"
            ]
          },
          "metadata": {},
          "execution_count": 13
        },
        {
          "output_type": "display_data",
          "data": {
            "text/plain": [
              "<Figure size 1000x500 with 1 Axes>"
            ],
            "image/png": "[encoded data removed]"
          },
          "metadata": {}
        }
      ]
    },
    {
      "cell_type": "markdown",
      "source": [
        "# Preparación de Data para Clustering"
      ],
      "metadata": {
        "id": "gl5fd5FKvdCr"
      }
    },
    {
      "cell_type": "code",
      "source": [
        "# Asignar etiquetas a la variable y\n",
        "y = df['type']\n",
        "y"
      ],
      "metadata": {
        "id": "-Ty9ZfbjpEjm",
        "colab": {
          "base_uri": "https://localhost:8080/"
        },
        "outputId": "9eb2ef28-0e0d-4710-c184-857371d8249b"
      },
      "execution_count": 14,
      "outputs": [
        {
          "output_type": "execute_result",
          "data": {
            "text/plain": [
              "0     Bone_Marrow_CD34\n",
              "1     Bone_Marrow_CD34\n",
              "2     Bone_Marrow_CD34\n",
              "3     Bone_Marrow_CD34\n",
              "4     Bone_Marrow_CD34\n",
              "            ...       \n",
              "59           PBSC_CD34\n",
              "60           PBSC_CD34\n",
              "61           PBSC_CD34\n",
              "62           PBSC_CD34\n",
              "63           PBSC_CD34\n",
              "Name: type, Length: 64, dtype: object"
            ]
          },
          "metadata": {},
          "execution_count": 14
        }
      ]
    },
    {
      "cell_type": "code",
      "source": [
        "# seleccionar datos categoricos\n",
        "X = df.iloc[:,2:].values\n",
        "X"
      ],
      "metadata": {
        "colab": {
          "base_uri": "https://localhost:8080/"
        },
        "id": "hRiL75YzVSKc",
        "outputId": "8380e73e-0d31-4783-8011-e43e85aaad59"
      },
      "execution_count": 15,
      "outputs": [
        {
          "output_type": "execute_result",
          "data": {
            "text/plain": [
              "array([[ 7.745245  ,  7.81121008,  6.47791635, ...,  3.65669312,\n",
              "         4.16062155,  4.13924885],\n",
              "       [ 8.08725201,  7.24067331,  8.58464841, ...,  3.7925346 ,\n",
              "         4.20441384,  4.12269984],\n",
              "       [ 7.79205558,  7.54936776, 11.05350405, ...,  3.63571499,\n",
              "         4.17419912,  4.06715189],\n",
              "       ...,\n",
              "       [ 7.86309208,  6.89624162,  6.63068969, ...,  3.66871266,\n",
              "         4.16222013,  4.1022645 ],\n",
              "       [ 7.90099218,  6.78751502,  6.64292725, ...,  3.57056287,\n",
              "         4.14137082,  4.10264116],\n",
              "       [ 8.00448759,  6.65743335,  6.70559658, ...,  3.63836663,\n",
              "         4.15684155,  4.17986705]])"
            ]
          },
          "metadata": {},
          "execution_count": 15
        }
      ]
    },
    {
      "cell_type": "markdown",
      "source": [
        "Antes de aplicar el Clustering, escalamos nuestros datos de modo que cada característica tenga una varianza unitaria."
      ],
      "metadata": {
        "id": "3NADY82pVu4Q"
      }
    },
    {
      "cell_type": "code",
      "source": [
        "scaler = StandardScaler()"
      ],
      "metadata": {
        "id": "VtHuZU1NV0yE"
      },
      "execution_count": 16,
      "outputs": []
    },
    {
      "cell_type": "code",
      "source": [
        "X_scaled = scaler.fit_transform(X)"
      ],
      "metadata": {
        "id": "G1of2j1MV_My"
      },
      "execution_count": 17,
      "outputs": []
    },
    {
      "cell_type": "code",
      "source": [
        "X_scaled"
      ],
      "metadata": {
        "colab": {
          "base_uri": "https://localhost:8080/"
        },
        "id": "nNUvapFGWHhQ",
        "outputId": "f508d402-4f29-4067-ffea-82a537b7719b"
      },
      "execution_count": 18,
      "outputs": [
        {
          "output_type": "execute_result",
          "data": {
            "text/plain": [
              "array([[-0.43992241,  2.8478943 , -0.76859606, ...,  0.27541129,\n",
              "         0.24991515,  0.21553881],\n",
              "       [ 1.58981201,  1.31612913,  0.8544001 , ...,  2.21934709,\n",
              "         0.81095432,  0.06053528],\n",
              "       [-0.1621122 ,  2.14490552,  2.75637108, ..., -0.02479251,\n",
              "         0.42386234, -0.45974533],\n",
              "       ...,\n",
              "       [ 0.25947342,  0.39140612, -0.65090167, ...,  0.4474148 ,\n",
              "         0.27039515, -0.13086892],\n",
              "       [ 0.48440197,  0.09949924, -0.64147403, ..., -0.95714056,\n",
              "         0.00328686, -0.127341  ],\n",
              "       [ 1.09862386, -0.24974133, -0.59319447, ...,  0.01315327,\n",
              "         0.20148806,  0.59598246]])"
            ]
          },
          "metadata": {},
          "execution_count": 18
        }
      ]
    },
    {
      "cell_type": "markdown",
      "source": [
        "# Modelo de Clustering [1][2]"
      ],
      "metadata": {
        "id": "cl0_a5vHWO7M"
      }
    },
    {
      "cell_type": "code",
      "source": [
        "# Inicialiar modelo\n",
        "clusterer = hdbscan.HDBSCAN()"
      ],
      "metadata": {
        "id": "bCqav3s5yd_i"
      },
      "execution_count": 19,
      "outputs": []
    },
    {
      "cell_type": "code",
      "source": [
        "# Podemos este modelo de Clustering y ajustarlo a los datos que tenemos.\n",
        "clusterer.fit(X_scaled)"
      ],
      "metadata": {
        "id": "QNn_bP7jygKw",
        "colab": {
          "base_uri": "https://localhost:8080/",
          "height": 74
        },
        "outputId": "bf87c8b5-3716-4db1-c3fb-2214e86dcebd"
      },
      "execution_count": 20,
      "outputs": [
        {
          "output_type": "execute_result",
          "data": {
            "text/plain": [
              "HDBSCAN()"
            ],
            "text/html": [
              "<style>#sk-container-id-1 {color: black;background-color: white;}#sk-container-id-1 pre{padding: 0;}#sk-container-id-1 div.sk-toggleable {background-color: white;}#sk-container-id-1 label.sk-toggleable__label {cursor: pointer;display: block;width: 100%;margin-bottom: 0;padding: 0.3em;box-sizing: border-box;text-align: center;}#sk-container-id-1 label.sk-toggleable__label-arrow:before {content: \"▸\";float: left;margin-right: 0.25em;color: #696969;}#sk-container-id-1 label.sk-toggleable__label-arrow:hover:before {color: black;}#sk-container-id-1 div.sk-estimator:hover label.sk-toggleable__label-arrow:before {color: black;}#sk-container-id-1 div.sk-toggleable__content {max-height: 0;max-width: 0;overflow: hidden;text-align: left;background-color: #f0f8ff;}#sk-container-id-1 div.sk-toggleable__content pre {margin: 0.2em;color: black;border-radius: 0.25em;background-color: #f0f8ff;}#sk-container-id-1 input.sk-toggleable__control:checked~div.sk-toggleable__content {max-height: 200px;max-width: 100%;overflow: auto;}#sk-container-id-1 input.sk-toggleable__control:checked~label.sk-toggleable__label-arrow:before {content: \"▾\";}#sk-container-id-1 div.sk-estimator input.sk-toggleable__control:checked~label.sk-toggleable__label {background-color: #d4ebff;}#sk-container-id-1 div.sk-label input.sk-toggleable__control:checked~label.sk-toggleable__label {background-color: #d4ebff;}#sk-container-id-1 input.sk-hidden--visually {border: 0;clip: rect(1px 1px 1px 1px);clip: rect(1px, 1px, 1px, 1px);height: 1px;margin: -1px;overflow: hidden;padding: 0;position: absolute;width: 1px;}#sk-container-id-1 div.sk-estimator {font-family: monospace;background-color: #f0f8ff;border: 1px dotted black;border-radius: 0.25em;box-sizing: border-box;margin-bottom: 0.5em;}#sk-container-id-1 div.sk-estimator:hover {background-color: #d4ebff;}#sk-container-id-1 div.sk-parallel-item::after {content: \"\";width: 100%;border-bottom: 1px solid gray;flex-grow: 1;}#sk-container-id-1 div.sk-label:hover label.sk-toggleable__label {background-color: #d4ebff;}#sk-container-id-1 div.sk-serial::before {content: \"\";position: absolute;border-left: 1px solid gray;box-sizing: border-box;top: 0;bottom: 0;left: 50%;z-index: 0;}#sk-container-id-1 div.sk-serial {display: flex;flex-direction: column;align-items: center;background-color: white;padding-right: 0.2em;padding-left: 0.2em;position: relative;}#sk-container-id-1 div.sk-item {position: relative;z-index: 1;}#sk-container-id-1 div.sk-parallel {display: flex;align-items: stretch;justify-content: center;background-color: white;position: relative;}#sk-container-id-1 div.sk-item::before, #sk-container-id-1 div.sk-parallel-item::before {content: \"\";position: absolute;border-left: 1px solid gray;box-sizing: border-box;top: 0;bottom: 0;left: 50%;z-index: -1;}#sk-container-id-1 div.sk-parallel-item {display: flex;flex-direction: column;z-index: 1;position: relative;background-color: white;}#sk-container-id-1 div.sk-parallel-item:first-child::after {align-self: flex-end;width: 50%;}#sk-container-id-1 div.sk-parallel-item:last-child::after {align-self: flex-start;width: 50%;}#sk-container-id-1 div.sk-parallel-item:only-child::after {width: 0;}#sk-container-id-1 div.sk-dashed-wrapped {border: 1px dashed gray;margin: 0 0.4em 0.5em 0.4em;box-sizing: border-box;padding-bottom: 0.4em;background-color: white;}#sk-container-id-1 div.sk-label label {font-family: monospace;font-weight: bold;display: inline-block;line-height: 1.2em;}#sk-container-id-1 div.sk-label-container {text-align: center;}#sk-container-id-1 div.sk-container {/* jupyter's `normalize.less` sets `[hidden] { display: none; }` but bootstrap.min.css set `[hidden] { display: none !important; }` so we also need the `!important` here to be able to override the default hidden behavior on the sphinx rendered scikit-learn.org. See: https://github.com/scikit-learn/scikit-learn/issues/21755 */display: inline-block !important;position: relative;}#sk-container-id-1 div.sk-text-repr-fallback {display: none;}</style><div id=\"sk-container-id-1\" class=\"sk-top-container\"><div class=\"sk-text-repr-fallback\"><pre>HDBSCAN()</pre><b>In a Jupyter environment, please rerun this cell to show the HTML representation or trust the notebook. <br />On GitHub, the HTML representation is unable to render, please try loading this page with nbviewer.org.</b></div><div class=\"sk-container\" hidden><div class=\"sk-item\"><div class=\"sk-estimator sk-toggleable\"><input class=\"sk-toggleable__control sk-hidden--visually\" id=\"sk-estimator-id-1\" type=\"checkbox\" checked><label for=\"sk-estimator-id-1\" class=\"sk-toggleable__label sk-toggleable__label-arrow\">HDBSCAN</label><div class=\"sk-toggleable__content\"><pre>HDBSCAN()</pre></div></div></div></div></div>"
            ]
          },
          "metadata": {},
          "execution_count": 20
        }
      ]
    },
    {
      "cell_type": "markdown",
      "source": [
        "El objeto clusterer almacena el resultado en un atributo label_."
      ],
      "metadata": {
        "id": "szXVJeK9YKKc"
      }
    },
    {
      "cell_type": "code",
      "source": [
        "clusterer.labels_, clusterer.labels_.max()"
      ],
      "metadata": {
        "colab": {
          "base_uri": "https://localhost:8080/"
        },
        "id": "4y8Hk-ydY0uI",
        "outputId": "eb75d9d8-ff5c-4762-e612-e85d49479063"
      },
      "execution_count": 21,
      "outputs": [
        {
          "output_type": "execute_result",
          "data": {
            "text/plain": [
              "(array([ 0, -1,  0, -1,  0,  0, -1,  0,  1,  1,  1,  1,  1,  1,  1,  1,  1,\n",
              "         1, -1, -1, -1, -1, -1, -1, -1, -1, -1, -1, -1, -1, -1, -1,  0, -1,\n",
              "        -1, -1, -1, -1, -1,  0, -1, -1, -1, -1, -1,  2, -1, -1, -1,  2,  2,\n",
              "        -1,  2,  2,  0,  0,  0, -1,  0,  0,  0,  0,  0,  0]),\n",
              " 2)"
            ]
          },
          "metadata": {},
          "execution_count": 21
        }
      ]
    },
    {
      "cell_type": "markdown",
      "source": [
        "Tenemos un total de tres grupos, con etiquetas 0, 1 y 2.\n",
        "\n",
        "Es importante destacar que HDBSCAN tiene en cuenta el ruido: tiene una noción de muestras de datos que no están asignadas a ningún grupo. Esto se maneja asignando a estas muestras la etiqueta -1.\n"
      ],
      "metadata": {
        "id": "0GdNVo3HYg6q"
      }
    },
    {
      "cell_type": "code",
      "source": [
        "clusterer.probabilities_"
      ],
      "metadata": {
        "colab": {
          "base_uri": "https://localhost:8080/"
        },
        "id": "KKE6SN29ZMPu",
        "outputId": "006cf7b6-ea2e-43cd-8ece-96d81d928344"
      },
      "execution_count": 22,
      "outputs": [
        {
          "output_type": "execute_result",
          "data": {
            "text/plain": [
              "array([0.91326113, 0.        , 0.99002037, 0.        , 0.95635178,\n",
              "       0.91326113, 0.        , 0.95221394, 0.81092   , 0.95243113,\n",
              "       0.91666386, 0.98214912, 1.        , 1.        , 1.        ,\n",
              "       0.98270124, 1.        , 1.        , 0.        , 0.        ,\n",
              "       0.        , 0.        , 0.        , 0.        , 0.        ,\n",
              "       0.        , 0.        , 0.        , 0.        , 0.        ,\n",
              "       0.        , 0.        , 0.88036748, 0.        , 0.        ,\n",
              "       0.        , 0.        , 0.        , 0.        , 0.88286464,\n",
              "       0.        , 0.        , 0.        , 0.        , 0.        ,\n",
              "       1.        , 0.        , 0.        , 0.        , 1.        ,\n",
              "       1.        , 0.        , 1.        , 1.        , 0.99590994,\n",
              "       1.        , 0.92539672, 0.        , 1.        , 0.99904567,\n",
              "       0.99002037, 1.        , 1.        , 1.        ])"
            ]
          },
          "metadata": {},
          "execution_count": 22
        }
      ]
    },
    {
      "cell_type": "markdown",
      "source": [
        "Hay diferentes métricas disponibles, a través de sklearn"
      ],
      "metadata": {
        "id": "wbxMBLxDZhGh"
      }
    },
    {
      "cell_type": "code",
      "source": [
        "hdbscan.dist_metrics.METRIC_MAPPING"
      ],
      "metadata": {
        "colab": {
          "base_uri": "https://localhost:8080/"
        },
        "id": "onDiAFcSZbfT",
        "outputId": "382a308a-ffca-476d-9560-9ffe900519a5"
      },
      "execution_count": 23,
      "outputs": [
        {
          "output_type": "execute_result",
          "data": {
            "text/plain": [
              "{'euclidean': hdbscan.dist_metrics.EuclideanDistance,\n",
              " 'l2': hdbscan.dist_metrics.EuclideanDistance,\n",
              " 'minkowski': hdbscan.dist_metrics.MinkowskiDistance,\n",
              " 'p': hdbscan.dist_metrics.MinkowskiDistance,\n",
              " 'manhattan': hdbscan.dist_metrics.ManhattanDistance,\n",
              " 'cityblock': hdbscan.dist_metrics.ManhattanDistance,\n",
              " 'l1': hdbscan.dist_metrics.ManhattanDistance,\n",
              " 'chebyshev': hdbscan.dist_metrics.ChebyshevDistance,\n",
              " 'infinity': hdbscan.dist_metrics.ChebyshevDistance,\n",
              " 'seuclidean': hdbscan.dist_metrics.SEuclideanDistance,\n",
              " 'mahalanobis': hdbscan.dist_metrics.MahalanobisDistance,\n",
              " 'wminkowski': hdbscan.dist_metrics.WMinkowskiDistance,\n",
              " 'hamming': hdbscan.dist_metrics.HammingDistance,\n",
              " 'canberra': hdbscan.dist_metrics.CanberraDistance,\n",
              " 'braycurtis': hdbscan.dist_metrics.BrayCurtisDistance,\n",
              " 'matching': hdbscan.dist_metrics.MatchingDistance,\n",
              " 'jaccard': hdbscan.dist_metrics.JaccardDistance,\n",
              " 'dice': hdbscan.dist_metrics.DiceDistance,\n",
              " 'kulsinski': hdbscan.dist_metrics.KulsinskiDistance,\n",
              " 'rogerstanimoto': hdbscan.dist_metrics.RogersTanimotoDistance,\n",
              " 'russellrao': hdbscan.dist_metrics.RussellRaoDistance,\n",
              " 'sokalmichener': hdbscan.dist_metrics.SokalMichenerDistance,\n",
              " 'sokalsneath': hdbscan.dist_metrics.SokalSneathDistance,\n",
              " 'haversine': hdbscan.dist_metrics.HaversineDistance,\n",
              " 'cosine': hdbscan.dist_metrics.ArccosDistance,\n",
              " 'arccos': hdbscan.dist_metrics.ArccosDistance,\n",
              " 'pyfunc': hdbscan.dist_metrics.PyFuncDistance}"
            ]
          },
          "metadata": {},
          "execution_count": 23
        }
      ]
    },
    {
      "cell_type": "markdown",
      "source": [
        "Probamos con otra metrica para comparar el resultado"
      ],
      "metadata": {
        "id": "DOSZPYC6ybbG"
      }
    },
    {
      "cell_type": "code",
      "source": [
        "clusterer = hdbscan.HDBSCAN(metric='l1', min_cluster_size=6, min_samples=1)\n",
        "clusterer.fit(X_scaled)\n",
        "clusterer.labels_"
      ],
      "metadata": {
        "colab": {
          "base_uri": "https://localhost:8080/"
        },
        "id": "VNYi-EXcZmWT",
        "outputId": "0971ff26-7f88-440a-d32f-bad3447ee6c3"
      },
      "execution_count": 24,
      "outputs": [
        {
          "output_type": "execute_result",
          "data": {
            "text/plain": [
              "array([ 1,  1,  1,  1,  1,  1, -1,  1,  2,  2,  2,  2,  2,  2,  2,  2,  2,\n",
              "        2, -1, -1, -1, -1,  1, -1, -1, -1, -1, -1,  1, -1,  1,  1,  1,  1,\n",
              "       -1, -1, -1, -1, -1,  1, -1,  1,  1, -1,  0,  0,  0, -1,  0,  0,  0,\n",
              "        0,  0,  0,  1,  1,  1,  1,  1,  1,  1,  1,  1,  1])"
            ]
          },
          "metadata": {},
          "execution_count": 24
        }
      ]
    },
    {
      "cell_type": "code",
      "source": [
        "clusterer.condensed_tree_.plot(select_clusters=True,\n",
        "                               selection_palette=sns.color_palette('deep', 8))"
      ],
      "metadata": {
        "colab": {
          "base_uri": "https://localhost:8080/",
          "height": 447
        },
        "id": "K3uJKjj-ccDN",
        "outputId": "59992175-25c6-4ec0-d364-a07795492d7f"
      },
      "execution_count": 25,
      "outputs": [
        {
          "output_type": "execute_result",
          "data": {
            "text/plain": [
              "<Axes: ylabel='$\\\\lambda$ value'>"
            ]
          },
          "metadata": {},
          "execution_count": 25
        },
        {
          "output_type": "display_data",
          "data": {
            "text/plain": [
              "<Figure size 640x480 with 2 Axes>"
            ],
            "image/png": "[encoded data removed]"
          },
          "metadata": {}
        }
      ]
    },
    {
      "cell_type": "markdown",
      "source": [
        "A pesar de haber cambiado las metricas, el agrupamiento no parece dar un resultado coherente."
      ],
      "metadata": {
        "id": "DbH7I7uGyk33"
      }
    },
    {
      "cell_type": "markdown",
      "source": [
        "## Aplicar PCA a los datos antes de la agrupación"
      ],
      "metadata": {
        "id": "oxRHCAcZd3Md"
      }
    },
    {
      "cell_type": "code",
      "source": [
        "pca_plot = PCA().fit(X_scaled)\n",
        "plt.plot(np.cumsum(pca_plot.explained_variance_ratio_))\n",
        "plt.xlabel('Número de componentes')\n",
        "plt.ylabel('cumulative explained variance');"
      ],
      "metadata": {
        "colab": {
          "base_uri": "https://localhost:8080/",
          "height": 450
        },
        "id": "66QrWIvnd9Pr",
        "outputId": "0f48c0c2-66a9-4096-ade9-7e08cb689623"
      },
      "execution_count": 26,
      "outputs": [
        {
          "output_type": "display_data",
          "data": {
            "text/plain": [
              "<Figure size 640x480 with 1 Axes>"
            ],
            "image/png": "[encoded data removed]"
          },
          "metadata": {}
        }
      ]
    },
    {
      "cell_type": "markdown",
      "source": [
        "Para explicar el 95% de los datos, se necesitarían 50 componentes principales."
      ],
      "metadata": {
        "id": "zcJ1IrkQeNAa"
      }
    },
    {
      "cell_type": "markdown",
      "source": [
        "## Aplicando t-SNE"
      ],
      "metadata": {
        "id": "BTkLOAVTef6u"
      }
    },
    {
      "cell_type": "markdown",
      "source": [
        "PCA no parecía ser un buen enfoque ya que necesitaría 50 componentes para explicar la mayoría de los datos. Probaremos t-SNE en su lugar con los datos originales."
      ],
      "metadata": {
        "id": "KDEHv8jSebDf"
      }
    },
    {
      "cell_type": "markdown",
      "source": [
        "### En data original"
      ],
      "metadata": {
        "id": "uzlTAS0lfbk0"
      }
    },
    {
      "cell_type": "code",
      "source": [
        "tsne = TSNE(random_state=0)"
      ],
      "metadata": {
        "id": "r4e44yzOejQt"
      },
      "execution_count": 27,
      "outputs": []
    },
    {
      "cell_type": "code",
      "source": [
        "tsne_result = tsne.fit_transform(X)"
      ],
      "metadata": {
        "id": "P909PzIgewXN"
      },
      "execution_count": 28,
      "outputs": []
    },
    {
      "cell_type": "code",
      "source": [
        "xi = tsne_result[:, 0]\n",
        "yi = tsne_result[:, 1]"
      ],
      "metadata": {
        "id": "-a0-DE-Be4g6"
      },
      "execution_count": 29,
      "outputs": []
    },
    {
      "cell_type": "code",
      "source": [
        "plt.figure(figsize=(16,10))\n",
        "sns.scatterplot(\n",
        "    x=xi, y=yi,\n",
        "    hue=y,\n",
        "    legend=\"full\",\n",
        "    alpha=1\n",
        ")"
      ],
      "metadata": {
        "colab": {
          "base_uri": "https://localhost:8080/",
          "height": 844
        },
        "id": "rpIwZVGGe8hk",
        "outputId": "41dbddc1-5693-47b7-8659-19ead11da2c0"
      },
      "execution_count": 30,
      "outputs": [
        {
          "output_type": "execute_result",
          "data": {
            "text/plain": [
              "<Axes: >"
            ]
          },
          "metadata": {},
          "execution_count": 30
        },
        {
          "output_type": "display_data",
          "data": {
            "text/plain": [
              "<Figure size 1600x1000 with 1 Axes>"
            ],
            "image/png": "[encoded data removed]"
          },
          "metadata": {}
        }
      ]
    },
    {
      "cell_type": "markdown",
      "source": [
        "### En data escalada"
      ],
      "metadata": {
        "id": "ZxGy8H3nff0I"
      }
    },
    {
      "cell_type": "code",
      "source": [
        "tsne_scaled = TSNE(random_state=0)"
      ],
      "metadata": {
        "id": "MlJxM3F5fgD7"
      },
      "execution_count": 31,
      "outputs": []
    },
    {
      "cell_type": "code",
      "source": [
        "tsne_result_scaled = tsne.fit_transform(X_scaled)"
      ],
      "metadata": {
        "id": "07leAIOhfKGl"
      },
      "execution_count": 32,
      "outputs": []
    },
    {
      "cell_type": "code",
      "source": [
        "xi_scaled = tsne_result_scaled[:, 0]\n",
        "yi_scaled = tsne_result_scaled[:, 1]"
      ],
      "metadata": {
        "id": "-2dQ8U_YfOw6"
      },
      "execution_count": 33,
      "outputs": []
    },
    {
      "cell_type": "code",
      "source": [
        "plt.figure(figsize=(16,10))\n",
        "sns.scatterplot(\n",
        "    x=xi_scaled, y=yi_scaled,\n",
        "    hue=y,\n",
        "    legend=\"full\",\n",
        "    alpha=1\n",
        ")"
      ],
      "metadata": {
        "colab": {
          "base_uri": "https://localhost:8080/",
          "height": 844
        },
        "id": "FDKPB8gvfRVu",
        "outputId": "4087e980-aa37-4234-cb59-88234ac56464"
      },
      "execution_count": 34,
      "outputs": [
        {
          "output_type": "execute_result",
          "data": {
            "text/plain": [
              "<Axes: >"
            ]
          },
          "metadata": {},
          "execution_count": 34
        },
        {
          "output_type": "display_data",
          "data": {
            "text/plain": [
              "<Figure size 1600x1000 with 1 Axes>"
            ],
            "image/png": "[encoded data removed]"
          },
          "metadata": {}
        }
      ]
    },
    {
      "cell_type": "markdown",
      "source": [
        "t-SNE funciona mejor con datos originales que con datos escalados.\n",
        "\n",
        "Ejecutamos el algoritmo DBScan en datos después de t-SNE con datos originales, ya que t-SNE en datos escalados visualmente no separa los grupos tan bien como con los datos originales."
      ],
      "metadata": {
        "id": "0w9Yg20PgI3k"
      }
    },
    {
      "cell_type": "code",
      "source": [
        "clusterer_tsne = hdbscan.HDBSCAN(metric='l1', min_cluster_size=6, min_samples=1)"
      ],
      "metadata": {
        "id": "zhPXDwfhgLvV"
      },
      "execution_count": 35,
      "outputs": []
    },
    {
      "cell_type": "code",
      "source": [
        "clusterer_tsne.fit(X)"
      ],
      "metadata": {
        "colab": {
          "base_uri": "https://localhost:8080/",
          "height": 74
        },
        "id": "1V1w3xP3gqnm",
        "outputId": "ee922635-6990-4a55-c0d3-6d065ce6c82e"
      },
      "execution_count": 36,
      "outputs": [
        {
          "output_type": "execute_result",
          "data": {
            "text/plain": [
              "HDBSCAN(metric='l1', min_cluster_size=6, min_samples=1)"
            ],
            "text/html": [
              "<style>#sk-container-id-2 {color: black;background-color: white;}#sk-container-id-2 pre{padding: 0;}#sk-container-id-2 div.sk-toggleable {background-color: white;}#sk-container-id-2 label.sk-toggleable__label {cursor: pointer;display: block;width: 100%;margin-bottom: 0;padding: 0.3em;box-sizing: border-box;text-align: center;}#sk-container-id-2 label.sk-toggleable__label-arrow:before {content: \"▸\";float: left;margin-right: 0.25em;color: #696969;}#sk-container-id-2 label.sk-toggleable__label-arrow:hover:before {color: black;}#sk-container-id-2 div.sk-estimator:hover label.sk-toggleable__label-arrow:before {color: black;}#sk-container-id-2 div.sk-toggleable__content {max-height: 0;max-width: 0;overflow: hidden;text-align: left;background-color: #f0f8ff;}#sk-container-id-2 div.sk-toggleable__content pre {margin: 0.2em;color: black;border-radius: 0.25em;background-color: #f0f8ff;}#sk-container-id-2 input.sk-toggleable__control:checked~div.sk-toggleable__content {max-height: 200px;max-width: 100%;overflow: auto;}#sk-container-id-2 input.sk-toggleable__control:checked~label.sk-toggleable__label-arrow:before {content: \"▾\";}#sk-container-id-2 div.sk-estimator input.sk-toggleable__control:checked~label.sk-toggleable__label {background-color: #d4ebff;}#sk-container-id-2 div.sk-label input.sk-toggleable__control:checked~label.sk-toggleable__label {background-color: #d4ebff;}#sk-container-id-2 input.sk-hidden--visually {border: 0;clip: rect(1px 1px 1px 1px);clip: rect(1px, 1px, 1px, 1px);height: 1px;margin: -1px;overflow: hidden;padding: 0;position: absolute;width: 1px;}#sk-container-id-2 div.sk-estimator {font-family: monospace;background-color: #f0f8ff;border: 1px dotted black;border-radius: 0.25em;box-sizing: border-box;margin-bottom: 0.5em;}#sk-container-id-2 div.sk-estimator:hover {background-color: #d4ebff;}#sk-container-id-2 div.sk-parallel-item::after {content: \"\";width: 100%;border-bottom: 1px solid gray;flex-grow: 1;}#sk-container-id-2 div.sk-label:hover label.sk-toggleable__label {background-color: #d4ebff;}#sk-container-id-2 div.sk-serial::before {content: \"\";position: absolute;border-left: 1px solid gray;box-sizing: border-box;top: 0;bottom: 0;left: 50%;z-index: 0;}#sk-container-id-2 div.sk-serial {display: flex;flex-direction: column;align-items: center;background-color: white;padding-right: 0.2em;padding-left: 0.2em;position: relative;}#sk-container-id-2 div.sk-item {position: relative;z-index: 1;}#sk-container-id-2 div.sk-parallel {display: flex;align-items: stretch;justify-content: center;background-color: white;position: relative;}#sk-container-id-2 div.sk-item::before, #sk-container-id-2 div.sk-parallel-item::before {content: \"\";position: absolute;border-left: 1px solid gray;box-sizing: border-box;top: 0;bottom: 0;left: 50%;z-index: -1;}#sk-container-id-2 div.sk-parallel-item {display: flex;flex-direction: column;z-index: 1;position: relative;background-color: white;}#sk-container-id-2 div.sk-parallel-item:first-child::after {align-self: flex-end;width: 50%;}#sk-container-id-2 div.sk-parallel-item:last-child::after {align-self: flex-start;width: 50%;}#sk-container-id-2 div.sk-parallel-item:only-child::after {width: 0;}#sk-container-id-2 div.sk-dashed-wrapped {border: 1px dashed gray;margin: 0 0.4em 0.5em 0.4em;box-sizing: border-box;padding-bottom: 0.4em;background-color: white;}#sk-container-id-2 div.sk-label label {font-family: monospace;font-weight: bold;display: inline-block;line-height: 1.2em;}#sk-container-id-2 div.sk-label-container {text-align: center;}#sk-container-id-2 div.sk-container {/* jupyter's `normalize.less` sets `[hidden] { display: none; }` but bootstrap.min.css set `[hidden] { display: none !important; }` so we also need the `!important` here to be able to override the default hidden behavior on the sphinx rendered scikit-learn.org. See: https://github.com/scikit-learn/scikit-learn/issues/21755 */display: inline-block !important;position: relative;}#sk-container-id-2 div.sk-text-repr-fallback {display: none;}</style><div id=\"sk-container-id-2\" class=\"sk-top-container\"><div class=\"sk-text-repr-fallback\"><pre>HDBSCAN(metric=&#x27;l1&#x27;, min_cluster_size=6, min_samples=1)</pre><b>In a Jupyter environment, please rerun this cell to show the HTML representation or trust the notebook. <br />On GitHub, the HTML representation is unable to render, please try loading this page with nbviewer.org.</b></div><div class=\"sk-container\" hidden><div class=\"sk-item\"><div class=\"sk-estimator sk-toggleable\"><input class=\"sk-toggleable__control sk-hidden--visually\" id=\"sk-estimator-id-2\" type=\"checkbox\" checked><label for=\"sk-estimator-id-2\" class=\"sk-toggleable__label sk-toggleable__label-arrow\">HDBSCAN</label><div class=\"sk-toggleable__content\"><pre>HDBSCAN(metric=&#x27;l1&#x27;, min_cluster_size=6, min_samples=1)</pre></div></div></div></div></div>"
            ]
          },
          "metadata": {},
          "execution_count": 36
        }
      ]
    },
    {
      "cell_type": "code",
      "source": [
        "clusterer_tsne.labels_, clusterer_tsne.labels_.max()"
      ],
      "metadata": {
        "colab": {
          "base_uri": "https://localhost:8080/"
        },
        "id": "9imuNU_vg3v3",
        "outputId": "316d22f4-5b4d-4a63-9b42-96cacc9d1d6a"
      },
      "execution_count": 37,
      "outputs": [
        {
          "output_type": "execute_result",
          "data": {
            "text/plain": [
              "(array([ 2,  2,  2,  2,  2,  2, -1,  2,  1,  1,  1,  1,  1,  1,  1,  1,  1,\n",
              "         1, -1, -1, -1, -1, -1, -1, -1, -1, -1, -1, -1, -1, -1, -1, -1, -1,\n",
              "        -1, -1, -1, -1, -1, -1, -1, -1, -1, -1,  0,  0,  0, -1,  0,  0,  0,\n",
              "         0,  0,  0,  3,  3,  3,  3,  3,  3,  3,  3,  3,  3]),\n",
              " 3)"
            ]
          },
          "metadata": {},
          "execution_count": 37
        }
      ]
    },
    {
      "cell_type": "markdown",
      "source": [
        "# Conlusiones\n",
        "\n",
        "*   Aplicar HDBScan sin modificar los hiperparámetros resulta en un modelo que no clasifica correctamente el número de tipos de cáncer para la data presentada. En teoría, se deberían clasificar 5 tipos, y el modelo original solo consigue 3 clusters.\n",
        "*   Modificando los hiperparámetros se consigue clasificar la misma cantidad de tipos (3 tipos); sin embargo, se consigue un mejor resultado al reducir el número de puntos clasificados como ruido (-1). No obstante, el resultado sigue sin ser el adecuado para la data mostrada.\n",
        "*   Aplicamos PCA para tratar de reducir el número de dimensiones, sin embargo, dio un mejor resultado aplicar t-SNE para reducir la dimensionalidad y visualizar los clusters. Luego del análisis con t-SNE en la data no estandarizada y la data estandarizada, se concluyo que el mejor agrupamiento se ven con data NO ESTANDARIZADA.\n",
        "*   Se aplicó nuevamente HDBScan con la data No Estandarizada procesada con t-SNE y se logró un mejor resultado al lograr 4 clusters. Solo 1 menos de los cluster que nos indica la data.\n",
        "*   Por último, concluimos que una búsqueda de hiperparámetros podría haber conseguido el mejor de los casos de agrupamiento. Aclarando que quiza el mejor resultado se obtendría aplicando t-SNE en la data No Escalada y luego realizando la búsqueda de los mejores hiperparámetros para HDBScan.\n",
        "\n",
        "# Referencias\n",
        "\n",
        "[1] something4kag. \"Using HDBSCAN\". Kaggle: Your Machine Learning and Data Science Community. https://www.kaggle.com/code/something4kag/using-hdbscan (accedido el 12 de mayo de 2023).\n",
        "\n",
        "[2] \"Basic Usage of HDBSCAN* for Clustering — hdbscan 0.8.1 documentation\". The hdbscan Clustering Library — hdbscan 0.8.1 documentation. https://hdbscan.readthedocs.io/en/latest/basic_hdbscan.html (accedido el 12 de mayo de 2023)."
      ],
      "metadata": {
        "id": "kSIoLKPsYmyG"
      }
    }
  ]
}